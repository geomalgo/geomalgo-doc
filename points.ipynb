{
 "cells": [
  {
   "cell_type": "code",
   "execution_count": 1,
   "metadata": {
    "collapsed": false,
    "deletable": true,
    "editable": true,
    "nbsphinx": "hidden"
   },
   "outputs": [
    {
     "name": "stdout",
     "output_type": "stream",
     "text": [
      "Populating the interactive namespace from numpy and matplotlib\n"
     ]
    }
   ],
   "source": [
    "import geomalgo as ga\n",
    "%load_ext Cython\n",
    "%load_ext wurlitzer\n",
    "%pylab inline"
   ]
  },
  {
   "cell_type": "raw",
   "metadata": {
    "deletable": true,
    "editable": true,
    "raw_mimetype": "text/restructuredtext"
   },
   "source": [
    "******\n",
    "Points\n",
    "******\n",
    "\n",
    "There are two data structures to represent a point in two-dimensional space,\n",
    "of coordiantes :math:`(x, y)`:\n",
    "\n",
    "    - the C structure :c:type:`CPoint2D`,\n",
    "    - the Python extension type :py:class:`Point2D`, a wrapper around :c:type:`CPoint2D`.\n",
    "    \n",
    ".. digraph:: Point2D\n",
    "    :align: center\n",
    "    \n",
    "    Point2D -> \"CPoint2D*\" \n",
    "    \"CPoint2D*\" -> x\n",
    "    \"CPoint2D*\" -> y\n",
    "    \"CPoint2D*\" [fillcolor=gray,style=\"rounded,filled\"]\n",
    "    x [fillcolor=gray,style=\"rounded,filled\"]\n",
    "    y [fillcolor=gray,style=\"rounded,filled\"]\n",
    "\n",
    "CPoint2D C structures\n",
    "---------------------\n",
    "    \n",
    "A :c:type:`CPoint2D` has just two members, to store coordinates:\n",
    "\n",
    ".. c:type:: CPoint2D\n",
    "\n",
    "    .. c:member:: double x\n",
    "    .. c:member:: double y\n"
   ]
  },
  {
   "cell_type": "code",
   "execution_count": 2,
   "metadata": {
    "collapsed": false,
    "deletable": true,
    "editable": true
   },
   "outputs": [
    {
     "name": "stdout",
     "output_type": "stream",
     "text": [
      "A: (1, 2)\n"
     ]
    }
   ],
   "source": [
    "%%cython\n",
    "\n",
    "from libc.stdio cimport printf\n",
    "cimport geomalgo as ga\n",
    "\n",
    "cdef:\n",
    "    ga.CPoint2D A\n",
    "    \n",
    "A.x = 1\n",
    "A.y = 2\n",
    "\n",
    "printf(\"A: (%.0f, %.0f)\\n\", A.x, A.y)"
   ]
  },
  {
   "cell_type": "raw",
   "metadata": {
    "deletable": true,
    "editable": true,
    "raw_mimetype": "text/restructuredtext"
   },
   "source": [
    ":c:type:`CPoint2D` can be allocated and destroyed with these functions:\n",
    "\n",
    ".. c:function:: CPoint2D* new_point2d()\n",
    "\n",
    "   Allocate a new CPoint2D\n",
    "\n",
    ".. c:function:: del_point2d(CPoint2D* cpoint2d)\n",
    "\n",
    "   Delete a CPoint2D\n",
    "   \n",
    ".. note:: \n",
    "\n",
    "    This functions are rarely used, as C structure in GeomAlgo are usually stack-allocated."
   ]
  },
  {
   "cell_type": "raw",
   "metadata": {
    "deletable": true,
    "editable": true,
    "raw_mimetype": "text/restructuredtext"
   },
   "source": [
    "Point2D Python extension\n",
    "------------------------\n",
    "\n",
    "A :py:class:`Point2D` takes coordinates as arguments, an optional\n",
    "index (can be for example vertice indices in a triangulation), \n",
    "and optional name (used  for example by its :py:class:`Point2D.plot` method).\n",
    "\n",
    ".. py:class:: Point2D(x, y, index=0, name=None)\n",
    "\n",
    "    Attributes:\n",
    "\n",
    "    .. py:attribute:: cpoint2d: CPoint2D*\n",
    "\n",
    "    .. py:attribute:: index: int\n",
    "    \n",
    "    .. py:attribute:: name: string"
   ]
  },
  {
   "cell_type": "code",
   "execution_count": 4,
   "metadata": {
    "collapsed": false,
    "deletable": true,
    "editable": true
   },
   "outputs": [
    {
     "name": "stdout",
     "output_type": "stream",
     "text": [
      "A: Point2D(1.0, 2.0)\n"
     ]
    },
    {
     "data": {
      "image/png": "[encoded data removed]",
      "text/plain": [
       "<matplotlib.figure.Figure at 0x7efed7f53978>"
      ]
     },
     "metadata": {},
     "output_type": "display_data"
    }
   ],
   "source": [
    "A = ga.Point2D(1, 2, name='A')\n",
    "B = ga.Point2D(4, 6, name='B')\n",
    "print('A:', A)\n",
    "A.plot()\n",
    "B.plot()"
   ]
  },
  {
   "cell_type": "raw",
   "metadata": {
    "deletable": true,
    "editable": true,
    "raw_mimetype": "text/restructuredtext"
   },
   "source": [
    "The wrapped C structure :py:attr:`Point2D.cpoint2d` accessible only using Cython."
   ]
  },
  {
   "cell_type": "code",
   "execution_count": 5,
   "metadata": {
    "collapsed": false,
    "deletable": true,
    "editable": true
   },
   "outputs": [
    {
     "name": "stdout",
     "output_type": "stream",
     "text": [
      "(1, 2)\n"
     ]
    }
   ],
   "source": [
    "%%cython\n",
    "\n",
    "from libc.stdio cimport printf\n",
    "cimport geomalgo as ga\n",
    "\n",
    "cdef:\n",
    "    ga.Point2D A\n",
    "    ga.CPoint2D* ptr\n",
    "\n",
    "A = ga.Point2D(1, 2)\n",
    "\n",
    "ptr = A.cpoint2d\n",
    "printf(\"(%.0f, %.0f)\\n\", ptr.x, ptr.y)"
   ]
  },
  {
   "cell_type": "raw",
   "metadata": {
    "deletable": true,
    "editable": true,
    "raw_mimetype": "text/restructuredtext"
   },
   "source": [
    "Get and set coordiantes\n",
    "-----------------------\n",
    "\n",
    "    .. py:attribute:: x: float\n",
    "\n",
    "       First point coordiante\n",
    "\n",
    "    .. py:attribute:: y: float\n",
    "\n",
    "       First point coordiante\n"
   ]
  },
  {
   "cell_type": "raw",
   "metadata": {
    "deletable": true,
    "editable": true,
    "raw_mimetype": "text/restructuredtext"
   },
   "source": [
    ".. py:method:: distance(self, other)\n",
    "\n",
    "   Compute distance\n",
    "\n",
    "\n",
    "The Cython API for points in two-dimensional points provide a simple CPoint2D\n",
    "strucutre and some computational functions."
   ]
  },
  {
   "cell_type": "raw",
   "metadata": {
    "deletable": true,
    "editable": true,
    "raw_mimetype": "text/restructuredtext"
   },
   "source": [
    "\n",
    ".. c:function:: bint point2d_equal(CPoint2D* A, CPoint2D* B)\n",
    "\n",
    "   Test whether two points :math:`A` and :math:`B` are strictly equal."
   ]
  },
  {
   "cell_type": "raw",
   "metadata": {
    "deletable": true,
    "editable": true,
    "raw_mimetype": "text/restructuredtext"
   },
   "source": [
    "Computational functions\n",
    "=======================\n",
    "\n",
    "\n",
    ".. c:function:: void subtract_points2d(CVector2D* AB, const CPoint2D* B, const CPoint2D* A)\n",
    "\n",
    "    Compute the vector :math:`\\mathbf{AB} = B - A`.\n",
    "\n",
    "    Variable ``AB`` must be already allocated.\n",
    "\n",
    "\n",
    ".. c:function:: void point2d_plus_vector2d(CPoint2D* B, CPoint2D* A, double alpha, CVector2D* AB)\n",
    "\n",
    "    Compute the point :math:`B = A + \\alpha \\mathbf{AB}`.\n",
    "\n",
    "    ``B`` must be already allocated.\n",
    "\n",
    "\n",
    ".. c:function:: double point2d_distance(CPoint2D* A, CPoint2D* B)\n",
    "\n",
    "    Compute the distance between points :math:`A` and :math:`B`.\n",
    "\n",
    "\n",
    ".. c:function:: double point2d_square_distance(CPoint2D* A, CPoint2D* B)\n",
    "\n",
    "    Compute the square of distance between to points :math:`A` and :math:`B`.\n",
    "\n",
    "    Sometime, the knowledge of the square distance is enough, and for\n",
    "    performance, computing the square root can be avoided.\n",
    "\n",
    "\n",
    ".. c:function:: double is_left(CPoint2D* A, CPoint2D* B, CPoint2D* P)\n",
    "\n",
    "    Test if the point :math:`P` is left, right, or of an infinite\n",
    "    line :math:`(AB)`.\n",
    "\n",
    "    The value returned is:\n",
    "      - Strictly **negative** if :math:`P` is right of the line through :math:`A`\n",
    "        to :math:`B`.\n",
    "      - Strictly **positive** if :math:`P` is left of the line through A to B.\n",
    "      - **Zero** if :math:`P` is on the line :math:`(AB)`."
   ]
  },
  {
   "cell_type": "raw",
   "metadata": {
    "deletable": true,
    "editable": true,
    "raw_mimetype": "text/restructuredtext"
   },
   "source": [
    "Structure allocation and destruction\n",
    "------------------------------------\n",
    "\n"
   ]
  },
  {
   "cell_type": "raw",
   "metadata": {
    "collapsed": true,
    "deletable": true,
    "editable": true,
    "raw_mimetype": "text/restructuredtext"
   },
   "source": [
    "\n",
    "Python and Cython API relation\n",
    "=============================="
   ]
  }
 ],
 "metadata": {
  "celltoolbar": "Raw Cell Format",
  "kernelspec": {
   "display_name": "Python 3",
   "language": "python",
   "name": "python3"
  },
  "language_info": {
   "codemirror_mode": {
    "name": "ipython",
    "version": 3
   },
   "file_extension": ".py",
   "mimetype": "text/x-python",
   "name": "python",
   "nbconvert_exporter": "python",
   "pygments_lexer": "ipython3",
   "version": "3.5.3"
  }
 },
 "nbformat": 4,
 "nbformat_minor": 2
}
