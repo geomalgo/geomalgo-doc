{
 "cells": [
  {
   "cell_type": "code",
   "execution_count": 1,
   "metadata": {
    "collapsed": false,
    "deletable": true,
    "editable": true,
    "nbsphinx": "hidden"
   },
   "outputs": [
    {
     "name": "stdout",
     "output_type": "stream",
     "text": [
      "Populating the interactive namespace from numpy and matplotlib\n"
     ]
    }
   ],
   "source": [
    "import geomalgo as ga\n",
    "%load_ext Cython\n",
    "%load_ext wurlitzer\n",
    "%pylab inline"
   ]
  },
  {
   "cell_type": "raw",
   "metadata": {
    "deletable": true,
    "editable": true,
    "raw_mimetype": "text/restructuredtext"
   },
   "source": [
    "******\n",
    "Points\n",
    "******\n",
    "\n",
    "There are two data structures to represent a point in two-dimensional space, of coordiantes :math:`(x, y)`:\n",
    "\n",
    "    - the C structure :c:type:`CPoint2D`,\n",
    "    - the Python extension type :py:class:`Point2D`, a wrapper around :c:type:`CPoint2D`.\n",
    "    \n",
    ".. digraph:: Point2D\n",
    "    :align: center\n",
    "    \n",
    "    Point2D -> \"CPoint2D*\" \n",
    "    \"CPoint2D*\" -> x\n",
    "    \"CPoint2D*\" -> y\n",
    "    \"CPoint2D*\" [fillcolor=gray,style=\"rounded,filled\"]\n",
    "    x [fillcolor=gray,style=\"rounded,filled\"]\n",
    "    y [fillcolor=gray,style=\"rounded,filled\"]\n",
    "\n",
    "CPoint2D C structure\n",
    "====================\n",
    "    \n",
    "A :c:type:`CPoint2D` has just two members,\n",
    "to store its coordinates:\n",
    "\n",
    ".. c:type:: CPoint2D\n",
    "\n",
    "    .. c:member:: double x\n",
    "    .. c:member:: double y\n"
   ]
  },
  {
   "cell_type": "code",
   "execution_count": 2,
   "metadata": {
    "collapsed": false,
    "deletable": true,
    "editable": true
   },
   "outputs": [
    {
     "name": "stdout",
     "output_type": "stream",
     "text": [
      "A: (1, 2)\n"
     ]
    }
   ],
   "source": [
    "%%cython\n",
    "\n",
    "from libc.stdio cimport printf\n",
    "cimport geomalgo as ga\n",
    "\n",
    "cdef:\n",
    "    ga.CPoint2D A\n",
    "    \n",
    "A.x = 1\n",
    "A.y = 2\n",
    "\n",
    "printf(\"A: (%.1f, %.1f)\\n\", A.x, A.y)"
   ]
  },
  {
   "cell_type": "raw",
   "metadata": {
    "deletable": true,
    "editable": true,
    "raw_mimetype": "text/restructuredtext"
   },
   "source": [
    ":c:type:`CPoint2D` can be allocated and destroyed with these functions:\n",
    "\n",
    ".. c:function:: CPoint2D* new_point2d()\n",
    "\n",
    "   Allocate a new CPoint2D\n",
    "\n",
    ".. c:function:: del_point2d(CPoint2D* cpoint2d)\n",
    "\n",
    "   Delete a CPoint2D\n",
    "   \n",
    ".. note:: \n",
    "\n",
    "    This functions are rarely used, as C structure in GeomAlgo are usually stack-allocated."
   ]
  },
  {
   "cell_type": "code",
   "execution_count": 3,
   "metadata": {
    "collapsed": false,
    "deletable": true,
    "editable": true
   },
   "outputs": [
    {
     "name": "stdout",
     "output_type": "stream",
     "text": [
      "A: (1, 2)\n"
     ]
    }
   ],
   "source": [
    "%%cython\n",
    "\n",
    "from libc.stdio cimport printf\n",
    "cimport geomalgo as ga\n",
    "\n",
    "cdef:\n",
    "    ga.CPoint2D* A\n",
    "    \n",
    "A = ga.new_point2d()\n",
    "\n",
    "A.x = 1\n",
    "A.y = 2\n",
    "\n",
    "printf(\"A: (%.1f, %.1f)\\n\", A.x, A.y)\n",
    "\n",
    "ga.del_point2d(A)"
   ]
  },
  {
   "cell_type": "raw",
   "metadata": {
    "deletable": true,
    "editable": true,
    "raw_mimetype": "text/restructuredtext"
   },
   "source": [
    "Point2D Python extension\n",
    "========================\n",
    "\n",
    "A :py:class:`Point2D` takes coordinates as arguments, an optional\n",
    "index (can be for example vertice indices in a triangulation), \n",
    "and optional name (used  for example by its :py:class:`Point2D.plot` method).\n",
    "\n",
    ".. py:class:: Point2D(x, y, index=0, name=None)\n",
    "\n",
    "    Attributes:\n",
    "\n",
    "    .. py:attribute:: Point2D.cpoint2d: CPoint2D*\n",
    "\n",
    "    .. py:attribute:: Point2D.index: int\n",
    "    \n",
    "    .. py:attribute:: Point2D.name: string"
   ]
  },
  {
   "cell_type": "code",
   "execution_count": 4,
   "metadata": {
    "collapsed": false,
    "deletable": true,
    "editable": true
   },
   "outputs": [
    {
     "name": "stdout",
     "output_type": "stream",
     "text": [
      "A: Point2D(1.0, 2.0)\n"
     ]
    },
    {
     "data": {
      "image/png": "[encoded data removed]",
      "text/plain": [
       "<matplotlib.figure.Figure at 0x7fe95b75b6d8>"
      ]
     },
     "metadata": {},
     "output_type": "display_data"
    }
   ],
   "source": [
    "A = ga.Point2D(1, 2, name='A')\n",
    "B = ga.Point2D(4, 6, name='B')\n",
    "print('A:', A)\n",
    "A.plot()\n",
    "B.plot()"
   ]
  },
  {
   "cell_type": "raw",
   "metadata": {
    "deletable": true,
    "editable": true,
    "raw_mimetype": "text/restructuredtext"
   },
   "source": [
    "The wrapped C structure :py:attr:`Point2D.cpoint2d` is accessible only using Cython."
   ]
  },
  {
   "cell_type": "code",
   "execution_count": 5,
   "metadata": {
    "collapsed": false,
    "deletable": true,
    "editable": true
   },
   "outputs": [
    {
     "name": "stdout",
     "output_type": "stream",
     "text": [
      "(1, 2)\n"
     ]
    }
   ],
   "source": [
    "%%cython\n",
    "\n",
    "from libc.stdio cimport printf\n",
    "cimport geomalgo as ga\n",
    "\n",
    "cdef:\n",
    "    ga.Point2D A\n",
    "    ga.CPoint2D* ptr\n",
    "\n",
    "A = ga.Point2D(1, 2)\n",
    "\n",
    "ptr = A.cpoint2d\n",
    "printf(\"(%.1f, %.1f)\\n\", ptr.x, ptr.y)"
   ]
  },
  {
   "cell_type": "raw",
   "metadata": {
    "deletable": true,
    "editable": true,
    "raw_mimetype": "text/restructuredtext"
   },
   "source": [
    "Get and set coordiantes\n",
    "=======================\n",
    "\n",
    ":c:type:`CPoint2D` members are accessed directly to get and set coordinates:"
   ]
  },
  {
   "cell_type": "code",
   "execution_count": 6,
   "metadata": {
    "collapsed": false,
    "deletable": true,
    "editable": true,
    "raw_mimetype": "text/restructuredtext"
   },
   "outputs": [
    {
     "name": "stdout",
     "output_type": "stream",
     "text": [
      "A: (1.0, 2.0)\n",
      "A: (4.0, -5.0)\n"
     ]
    }
   ],
   "source": [
    "%%cython\n",
    "\n",
    "from libc.stdio cimport printf\n",
    "cimport geomalgo as ga\n",
    "\n",
    "cdef:\n",
    "    ga.CPoint2D A\n",
    "    \n",
    "A.x, A.y = 1, 2\n",
    "printf(\"A: (%.1f, %.1f)\\n\", A.x, A.y)\n",
    "    \n",
    "A.x, A.y = 4, -5\n",
    "printf(\"A: (%.1f, %.1f)\\n\", A.x, A.y)"
   ]
  },
  {
   "cell_type": "raw",
   "metadata": {
    "deletable": true,
    "editable": true,
    "raw_mimetype": "text/restructuredtext"
   },
   "source": [
    ":py:class:`Point2D` as two properties ``x`` and ``y`` to get/set coordiantes\n",
    "from/to its underlying ``cpoint2d`` attribute:\n",
    "\n",
    "            \n",
    ".. py:attribute:: Point2D.x\n",
    "\n",
    ".. py:attribute:: Point2D.y"
   ]
  },
  {
   "cell_type": "code",
   "execution_count": 7,
   "metadata": {
    "collapsed": false,
    "deletable": true,
    "editable": true
   },
   "outputs": [
    {
     "name": "stdout",
     "output_type": "stream",
     "text": [
      "Point2D(1.0, 2.0)\n",
      "Point2D(4.0, -5.0)\n"
     ]
    }
   ],
   "source": [
    "A = ga.Point2D(1, 2)\n",
    "print(A)\n",
    "\n",
    "A.x, A.y = 4, -5\n",
    "print(A)"
   ]
  },
  {
   "cell_type": "raw",
   "metadata": {
    "deletable": true,
    "editable": true,
    "raw_mimetype": "text/restructuredtext"
   },
   "source": [
    "Point operators\n",
    "===============\n",
    "\n",
    "Points subtraction\n",
    "------------------\n",
    "\n",
    "Two points :math:`B` and :math:`A` can be subtracted to compute the\n",
    "vector :math:`\\mathbf{AB} = B - A`.\n",
    "\n",
    ".. c:function:: void subtract_points2d(CVector2D* AB, const CPoint2D* B, const CPoint2D* A)\n",
    "\n",
    "   Variable ``AB`` must be already allocated.\n"
   ]
  },
  {
   "cell_type": "code",
   "execution_count": 8,
   "metadata": {
    "collapsed": false,
    "deletable": true,
    "editable": true
   },
   "outputs": [
    {
     "name": "stdout",
     "output_type": "stream",
     "text": [
      "AB: (3.0, 4.0)\n"
     ]
    }
   ],
   "source": [
    "%%cython\n",
    "\n",
    "from libc.stdio cimport printf\n",
    "cimport geomalgo as ga\n",
    "\n",
    "cdef:\n",
    "    ga.CPoint2D A, B\n",
    "    ga.CVector2D AB\n",
    "    \n",
    "A.x, A.y = 1, 2\n",
    "B.x, B.y = 4, 6\n",
    "\n",
    "ga.subtract_points2d(&AB, &B, &A)\n",
    "\n",
    "printf(\"AB: (%.1f, %.1f)\\n\", AB.x, AB.y)"
   ]
  },
  {
   "cell_type": "raw",
   "metadata": {
    "deletable": true,
    "editable": true,
    "raw_mimetype": "text/restructuredtext"
   },
   "source": [
    ".. py:method:: Point2D.__sub__(B, A)"
   ]
  },
  {
   "cell_type": "code",
   "execution_count": 9,
   "metadata": {
    "collapsed": false,
    "deletable": true,
    "editable": true
   },
   "outputs": [
    {
     "name": "stdout",
     "output_type": "stream",
     "text": [
      "AB: (3.0, 4.0)\n"
     ]
    }
   ],
   "source": [
    "A = ga.Point2D(1, 2)\n",
    "B = ga.Point2D(4, 6)\n",
    "AB = B - A\n",
    "print('AB: ({}, {})'.format(AB.x, AB.y))"
   ]
  },
  {
   "cell_type": "raw",
   "metadata": {
    "deletable": true,
    "editable": true,
    "raw_mimetype": "text/restructuredtext"
   },
   "source": [
    "Point plus vector\n",
    "-----------------\n",
    "\n",
    "A vector :math:`\\mathbf{AB}` can be added to a point :math:`A`\n",
    "to compute the point :math:`B = A + \\alpha \\mathbf{AB}`.\n",
    "\n",
    ".. c:function:: void point2d_plus_vector2d(CPoint2D* B, CPoint2D* A, double alpha, CVector2D* AB)\n",
    "\n",
    "    ``B`` must be already allocated."
   ]
  },
  {
   "cell_type": "code",
   "execution_count": 10,
   "metadata": {
    "collapsed": false,
    "deletable": true,
    "editable": true
   },
   "outputs": [
    {
     "name": "stdout",
     "output_type": "stream",
     "text": [
      "B: (4.0, 6.0)"
     ]
    }
   ],
   "source": [
    "%%cython\n",
    "\n",
    "from libc.stdio cimport printf\n",
    "cimport geomalgo as ga\n",
    "\n",
    "cdef:\n",
    "    ga.CPoint2D A, B\n",
    "    ga.CVector2D AB\n",
    "    \n",
    "A.x, A.y = 1, 2\n",
    "AB.x, AB.y = 1.5, 2\n",
    "\n",
    "ga.point2d_plus_vector2d(&B, &A, 2., &AB)\n",
    "\n",
    "printf(\"B: (%.1f, %.1f)\", B.x, B.y)"
   ]
  },
  {
   "cell_type": "raw",
   "metadata": {
    "deletable": true,
    "editable": true,
    "raw_mimetype": "text/restructuredtext"
   },
   "source": [
    ".. py:method:: Point2D.__add__(A, AB):"
   ]
  },
  {
   "cell_type": "code",
   "execution_count": 11,
   "metadata": {
    "collapsed": false,
    "deletable": true,
    "editable": true
   },
   "outputs": [
    {
     "name": "stdout",
     "output_type": "stream",
     "text": [
      "Point2D(4.0, 6.0)\n"
     ]
    }
   ],
   "source": [
    "A = ga.Point2D(1, 2)\n",
    "AB = ga.Vector2D(1.5, 2)\n",
    "\n",
    "B = A + AB*2\n",
    "\n",
    "print(B)"
   ]
  },
  {
   "cell_type": "raw",
   "metadata": {
    "deletable": true,
    "editable": true,
    "raw_mimetype": "text/restructuredtext"
   },
   "source": [
    "Points equality\n",
    "---------------\n",
    "\n",
    "Test whether two points :math:`A` and :math:`B` are strictly equal.\n",
    "                \n",
    ".. c:function:: bint point2d_equal(CPoint2D* A, CPoint2D* B)"
   ]
  },
  {
   "cell_type": "code",
   "execution_count": 12,
   "metadata": {
    "collapsed": false,
    "deletable": true,
    "editable": true
   },
   "outputs": [
    {
     "name": "stdout",
     "output_type": "stream",
     "text": [
      "A==B: 1\n",
      "A==C: 0\n"
     ]
    }
   ],
   "source": [
    "%%cython\n",
    "\n",
    "from libc.stdio cimport printf\n",
    "cimport geomalgo as ga\n",
    "\n",
    "cdef:\n",
    "    ga.CPoint2D A, B, C\n",
    "    \n",
    "A.x, A.y = 1, 2\n",
    "B.x, B.y = 1, 2\n",
    "C.x, C.y = 2, 2\n",
    "\n",
    "printf(\"A==B: %d\\n\", ga.point2d_equal(&A, &B))\n",
    "printf(\"A==C: %d\\n\", ga.point2d_equal(&A, &C))"
   ]
  },
  {
   "cell_type": "raw",
   "metadata": {
    "deletable": true,
    "editable": true,
    "raw_mimetype": "text/restructuredtext"
   },
   "source": [
    "Distance computation\n",
    "====================\n",
    "\n",
    "Compute the distance between points :math:`A` and :math:`B`.\n",
    "\n",
    ".. c:function:: double point2d_distance(CPoint2D* A, CPoint2D* B)"
   ]
  },
  {
   "cell_type": "code",
   "execution_count": 13,
   "metadata": {
    "collapsed": false,
    "deletable": true,
    "editable": true
   },
   "outputs": [
    {
     "name": "stdout",
     "output_type": "stream",
     "text": [
      "distance: 5.0"
     ]
    }
   ],
   "source": [
    "%%cython\n",
    "\n",
    "from libc.stdio cimport printf\n",
    "cimport geomalgo as ga\n",
    "\n",
    "cdef:\n",
    "    ga.CPoint2D A, B\n",
    "    double dist\n",
    "    \n",
    "A.x, A.y = 1, 2\n",
    "B.x, B.y = 4, 6\n",
    "dist = ga.point2d_distance(&A, &B)\n",
    "printf(\"distance: %.1f\", dist)"
   ]
  },
  {
   "cell_type": "raw",
   "metadata": {
    "deletable": true,
    "editable": true,
    "raw_mimetype": "text/restructuredtext"
   },
   "source": [
    ".. py:method:: distance(A, B)"
   ]
  },
  {
   "cell_type": "code",
   "execution_count": 14,
   "metadata": {
    "collapsed": false,
    "deletable": true,
    "editable": true
   },
   "outputs": [
    {
     "data": {
      "text/plain": [
       "5.0"
      ]
     },
     "execution_count": 14,
     "metadata": {},
     "output_type": "execute_result"
    }
   ],
   "source": [
    "A = ga.Point2D(1, 2)\n",
    "B = ga.Point2D(4, 6)\n",
    "A.distance(B)"
   ]
  },
  {
   "cell_type": "raw",
   "metadata": {
    "collapsed": true,
    "deletable": true,
    "editable": true,
    "raw_mimetype": "text/restructuredtext"
   },
   "source": [
    "Sometime, the knowledge of the square distance is enough, and for\n",
    "performance, computing the square root can be avoided.\n",
    "\n",
    ".. c:function:: double point2d_square_distance(CPoint2D* A, CPoint2D* B)"
   ]
  },
  {
   "cell_type": "code",
   "execution_count": 22,
   "metadata": {
    "collapsed": false,
    "deletable": true,
    "editable": true
   },
   "outputs": [
    {
     "name": "stdout",
     "output_type": "stream",
     "text": [
      "square distance: 25.0 "
     ]
    }
   ],
   "source": [
    "%%cython\n",
    "\n",
    "from libc.stdio cimport printf\n",
    "cimport geomalgo as ga\n",
    "\n",
    "cdef:\n",
    "    ga.CPoint2D A, B\n",
    "    double sdist\n",
    "    \n",
    "A.x, A.y = 1, 2\n",
    "B.x, B.y = 4, 6\n",
    "sdist = ga.point2d_square_distance(&A, &B)\n",
    "printf(\"square distance: %.1f\", sdist)"
   ]
  },
  {
   "cell_type": "raw",
   "metadata": {
    "deletable": true,
    "editable": true,
    "raw_mimetype": "text/restructuredtext"
   },
   "source": [
    "Various\n",
    "=======\n",
    "\n",
    "Test if the point :math:`P` is left, right, or of an infinite line :math:`(AB)`,\n",
    "through :math:`A` to :math:`B`.\n",
    "\n",
    ".. py:method:: is_left(P, A, B, isclose=math.isclose)\n",
    "\n",
    "    Returns True if :math:`P` is left, False if :math:`P` is right, and raises a \n",
    "    :py:exc:`ValueError` if :math:`P` is on line `AB`.\n",
    "    ``comparer`` is a function to test floating point equality."
   ]
  },
  {
   "cell_type": "code",
   "execution_count": 2,
   "metadata": {
    "collapsed": false,
    "deletable": true,
    "editable": true
   },
   "outputs": [
    {
     "name": "stdout",
     "output_type": "stream",
     "text": [
      "P is left AB: True\n",
      "P is left BA: False\n",
      "\n",
      "Q is left AB: False\n",
      "Q is left BA: True\n"
     ]
    },
    {
     "data": {
      "image/png": "[encoded data removed]",
      "text/plain": [
       "<matplotlib.figure.Figure at 0x7f8de525d5f8>"
      ]
     },
     "metadata": {},
     "output_type": "display_data"
    }
   ],
   "source": [
    "A = ga.Point2D(1, 1, name='A')\n",
    "B = ga.Point2D(4, 4, name='B')\n",
    "P = ga.Point2D(2, 3, name='P')\n",
    "Q = ga.Point2D(3, 2, name='Q')\n",
    "\n",
    "AB = ga.Segment2D(A, B)\n",
    "\n",
    "for obj in [A, B, AB]:\n",
    "    obj.plot()\n",
    "    \n",
    "for obj in [P, Q]:\n",
    "    obj.plot(color='red')\n",
    "    \n",
    "print('P is left AB:', P.is_left(A, B))\n",
    "print('P is left BA:', P.is_left(B, A))\n",
    "print()\n",
    "print('Q is left AB:', Q.is_left(A, B))\n",
    "print('Q is left BA:', Q.is_left(B, A))"
   ]
  },
  {
   "cell_type": "code",
   "execution_count": 3,
   "metadata": {
    "collapsed": false
   },
   "outputs": [
    {
     "name": "stdout",
     "output_type": "stream",
     "text": [
      "R in on line (AB)\n",
      "S is left AB: True\n",
      "S in on line (AB)\n"
     ]
    },
    {
     "data": {
      "image/png": "[encoded data removed]",
      "text/plain": [
       "<matplotlib.figure.Figure at 0x7f8db9cc1828>"
      ]
     },
     "metadata": {},
     "output_type": "display_data"
    }
   ],
   "source": [
    "for obj in [A, B, AB]:\n",
    "    obj.plot()\n",
    "    \n",
    "R = ga.Point2D(2, 2, name='R')\n",
    "S = ga.Point2D(3, 3.1, name='S')\n",
    "for obj in [R, S]:\n",
    "    obj.plot(color='red')\n",
    "\n",
    "try:\n",
    "    R.is_left(B, A)\n",
    "except ValueError as err:\n",
    "    print(err)\n",
    "    \n",
    "print('S is left AB:', S.is_left(A, B))\n",
    "\n",
    "try:\n",
    "    S.is_left(A, B, isclose=lambda x,y: abs(x-y)<0.5)\n",
    "except ValueError as err:\n",
    "    print(err)"
   ]
  },
  {
   "cell_type": "raw",
   "metadata": {
    "collapsed": true,
    "deletable": true,
    "editable": true,
    "raw_mimetype": "text/restructuredtext"
   },
   "source": [
    ".. c:function:: double is_left(CPoint2D* A, CPoint2D* B, CPoint2D* P)\n",
    "\n",
    "    The value returned is:\n",
    "      - Strictly **negative** if :math:`P` is right of the line through :math:`A`\n",
    "        to :math:`B`.\n",
    "      - Strictly **positive** if :math:`P` is left of the line through A to B.\n",
    "      - **Zero** if :math:`P` is on the line :math:`(AB)`."
   ]
  },
  {
   "cell_type": "code",
   "execution_count": 27,
   "metadata": {
    "collapsed": false,
    "deletable": true,
    "editable": true
   },
   "outputs": [
    {
     "name": "stdout",
     "output_type": "stream",
     "text": [
      "P is left AB: 3.00\n",
      "P is left BA: -3.00\n",
      "R is left AB: 0.00 \n"
     ]
    }
   ],
   "source": [
    "%%cython\n",
    "\n",
    "from libc.stdio cimport printf\n",
    "cimport geomalgo as ga\n",
    "\n",
    "cdef:\n",
    "    ga.CPoint2D A, B, P, R\n",
    "    \n",
    "A.x, A.y = 1, 1\n",
    "B.x, B.y = 4, 4\n",
    "\n",
    "P.x, P.y = 2, 3\n",
    "R.x, R.y = 2, 2\n",
    "\n",
    "printf('P is left AB: %.2f\\n', ga.is_left(&A, &B, &P))\n",
    "printf('P is left BA: %.2f\\n', ga.is_left(&B, &A, &P))\n",
    "printf('R is left AB: %.2f\\n', ga.is_left(&A, &B, &R))"
   ]
  },
  {
   "cell_type": "code",
   "execution_count": null,
   "metadata": {
    "collapsed": true,
    "deletable": true,
    "editable": true
   },
   "outputs": [],
   "source": []
  }
 ],
 "metadata": {
  "celltoolbar": "Raw Cell Format",
  "kernelspec": {
   "display_name": "Python 3",
   "language": "python",
   "name": "python3"
  },
  "language_info": {
   "codemirror_mode": {
    "name": "ipython",
    "version": 3
   },
   "file_extension": ".py",
   "mimetype": "text/x-python",
   "name": "python",
   "nbconvert_exporter": "python",
   "pygments_lexer": "ipython3",
   "version": "3.5.3"
  }
 },
 "nbformat": 4,
 "nbformat_minor": 2
}
