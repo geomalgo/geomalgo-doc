{
 "cells": [
  {
   "cell_type": "raw",
   "metadata": {
    "deletable": true,
    "editable": true,
    "raw_mimetype": "text/restructuredtext"
   },
   "source": [
    "************\n",
    "Introduction\n",
    "************"
   ]
  },
  {
   "cell_type": "code",
   "execution_count": 1,
   "metadata": {
    "collapsed": false,
    "deletable": true,
    "editable": true,
    "scrolled": true
   },
   "outputs": [
    {
     "name": "stdout",
     "output_type": "stream",
     "text": [
      "Populating the interactive namespace from numpy and matplotlib\n"
     ]
    }
   ],
   "source": [
    "%pylab inline\n",
    "\n",
    "import geomalgo as ga"
   ]
  },
  {
   "cell_type": "raw",
   "metadata": {
    "collapsed": true,
    "deletable": true,
    "editable": true,
    "raw_mimetype": "text/restructuredtext"
   },
   "source": [
    "A triangulation is a subdivision of a two-dimensional domain into triangles.\n",
    "\n",
    "A triangulation is defined by:\n",
    "\n",
    "   - its vertices: two 1D arrays ``x`` and ``y`` for coordiantes,\n",
    "   - its triangles: one 2D array ``trivtx``, giving the 3 vertice indices of\n",
    "     each triangle."
   ]
  },
  {
   "cell_type": "code",
   "execution_count": 2,
   "metadata": {
    "collapsed": false,
    "deletable": true,
    "editable": true
   },
   "outputs": [
    {
     "data": {
      "image/png": "[encoded data removed]",
      "text/plain": [
       "<matplotlib.figure.Figure at 0x7fc7d64b9518>"
      ]
     },
     "metadata": {},
     "output_type": "display_data"
    }
   ],
   "source": [
    "x = array([0, 1, 2, 0, 1, 2, 0, 1], dtype='d')\n",
    "y = array([0, 0, 0, 1, 1, 1, 2, 2], dtype='d')\n",
    "trivtx = array([[0, 1, 3], [1, 2, 4], [1, 4, 3], [2, 5, 4],\n",
    "                [3, 4, 6], [4, 7, 6]], dtype='int32')\n",
    "\n",
    "# Plot triangulation.\n",
    "triplot(x, y, trivtx)\n",
    "\n",
    "# Plot vertices indices.\n",
    "for ivert, (xvert, yvert) in enumerate(zip(x, y)):\n",
    "    text(xvert, yvert, ivert)\n",
    "\n",
    "# Plot triangle indices.\n",
    "for itri, (v0, v1, v2) in enumerate(trivtx):\n",
    "    xcenter = (x[v0] + x[v1] + x[v2]) / 3.\n",
    "    ycenter = (y[v0] + y[v1] + y[v2]) / 3.\n",
    "    text(xcenter, ycenter, itri, color='red')\n",
    "\n",
    "axis('scaled')\n",
    "show()"
   ]
  },
  {
   "cell_type": "raw",
   "metadata": {
    "deletable": true,
    "editable": true,
    "raw_mimetype": "text/restructuredtext"
   },
   "source": [
    "For example, the vertice indices of triangle 2 are 1, 4 and 3:"
   ]
  },
  {
   "cell_type": "code",
   "execution_count": 3,
   "metadata": {
    "collapsed": false,
    "deletable": true,
    "editable": true
   },
   "outputs": [
    {
     "name": "stdout",
     "output_type": "stream",
     "text": [
      "[1 4 3]\n"
     ]
    }
   ],
   "source": [
    "print(trivtx[2])"
   ]
  },
  {
   "cell_type": "raw",
   "metadata": {
    "deletable": true,
    "editable": true,
    "raw_mimetype": "text/restructuredtext"
   },
   "source": [
    "The main purpose of this extension type is to group this arrays together"
   ]
  },
  {
   "cell_type": "code",
   "execution_count": 4,
   "metadata": {
    "collapsed": true,
    "deletable": true,
    "editable": true
   },
   "outputs": [],
   "source": [
    "TG = ga.Triangulation2D(x, y, trivtx)              "
   ]
  },
  {
   "cell_type": "code",
   "execution_count": null,
   "metadata": {
    "collapsed": true,
    "deletable": true,
    "editable": true
   },
   "outputs": [],
   "source": []
  }
 ],
 "metadata": {
  "celltoolbar": "Raw Cell Format",
  "kernelspec": {
   "display_name": "Python 3",
   "language": "python",
   "name": "python3"
  },
  "language_info": {
   "codemirror_mode": {
    "name": "ipython",
    "version": 3
   },
   "file_extension": ".py",
   "mimetype": "text/x-python",
   "name": "python",
   "nbconvert_exporter": "python",
   "pygments_lexer": "ipython3",
   "version": "3.5.3"
  }
 },
 "nbformat": 4,
 "nbformat_minor": 2
}
