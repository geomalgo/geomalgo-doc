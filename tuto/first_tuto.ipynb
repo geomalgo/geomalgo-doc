{
 "cells": [
  {
   "cell_type": "raw",
   "metadata": {
    "deletable": true,
    "editable": true,
    "raw_mimetype": "text/restructuredtext"
   },
   "source": [
    "***********************\n",
    "GeomAlgo first tutorial\n",
    "***********************\n",
    "\n",
    "This first tutorial introduces ``geomalgo`` through simple examples, exploring three differents aspects of its API:\n",
    "\n",
    "- **Python API**: Manipulate Python objects in the Python interactive interpreter.\n",
    "- **Cython API**: Use Cython compiler to add static typing and manipulate **C structures**.\n",
    "- **Work on large data sets**: Use `SoA <https://en.wikipedia.org/wiki/AOS_and_SOA>`_ memory layout and compile to **C** code to efficiently work large date sets.\n",
    "\n",
    "These concepts will be demonstrated on a simple example: computing intersection between segments."
   ]
  },
  {
   "cell_type": "raw",
   "metadata": {
    "deletable": true,
    "editable": true,
    "raw_mimetype": "text/restructuredtext"
   },
   "source": [
    "==========================\n",
    "Using the Python interface\n",
    "==========================\n",
    "\n",
    "This tutorial is written in a Jupyter notebook. ``pylab`` is imported, and ``matplotlib`` figures are inlined in the notebook. ``geomalgo`` is imported as ``ga``."
   ]
  },
  {
   "cell_type": "code",
   "execution_count": null,
   "metadata": {
    "collapsed": false,
    "deletable": true,
    "editable": true
   },
   "outputs": [],
   "source": [
    "%pylab inline\n",
    "\n",
    "import geomalgo as ga"
   ]
  },
  {
   "cell_type": "code",
   "execution_count": null,
   "metadata": {
    "collapsed": false,
    "deletable": true,
    "editable": true
   },
   "outputs": [],
   "source": [
    "%load_ext Cython"
   ]
  },
  {
   "cell_type": "code",
   "execution_count": null,
   "metadata": {
    "collapsed": false,
    "deletable": true,
    "editable": true
   },
   "outputs": [],
   "source": [
    "%%cython\n",
    "cimport geomalgo as ga\n",
    "cdef:\n",
    "    ga.CSegment2D seg"
   ]
  },
  {
   "cell_type": "raw",
   "metadata": {
    "deletable": true,
    "editable": true,
    "raw_mimetype": "text/restructuredtext"
   },
   "source": [
    "Creating points and segments\n",
    "----------------------------"
   ]
  },
  {
   "cell_type": "raw",
   "metadata": {
    "deletable": true,
    "editable": true,
    "raw_mimetype": "text/restructuredtext"
   },
   "source": [
    "The first ``geomalgo`` `class` (actually, extension type) we manipulate is :py:class:`geomalgo.Point2D`.\n",
    "It takes point coordinates as argument. The Python API also accept an optional name, and provides a `plot` method, usefull to quickly create `matplotlib` figures."
   ]
  },
  {
   "cell_type": "code",
   "execution_count": null,
   "metadata": {
    "collapsed": false,
    "deletable": true,
    "editable": true
   },
   "outputs": [],
   "source": [
    "A = ga.Point2D(2, 1, name='A')\n",
    "B = ga.Point2D(6, 4, name='B')\n",
    "\n",
    "C = ga.Point2D(5, 2, name='C')\n",
    "D = ga.Point2D(2, 3.5, name='D')\n",
    "\n",
    "for obj in [A, B, C, D]:\n",
    "    obj.plot()"
   ]
  },
  {
   "cell_type": "raw",
   "metadata": {
    "deletable": true,
    "editable": true,
    "raw_mimetype": "text/restructuredtext"
   },
   "source": [
    "These four points can be used to create two segments, using :py:class:`geomalgo.Segment2D`.\n",
    "Like points, segments have a `plot` method."
   ]
  },
  {
   "cell_type": "code",
   "execution_count": null,
   "metadata": {
    "collapsed": false,
    "deletable": true,
    "editable": true
   },
   "outputs": [],
   "source": [
    "AB = ga.Segment2D(A, B)\n",
    "CD = ga.Segment2D(C, D)\n",
    "\n",
    "for obj in [A, B, C, D, AB, CD]:\n",
    "    obj.plot()"
   ]
  },
  {
   "cell_type": "raw",
   "metadata": {
    "deletable": true,
    "editable": true,
    "raw_mimetype": "text/restructuredtext"
   },
   "source": [
    "Computing intersection\n",
    "----------------------"
   ]
  },
  {
   "cell_type": "raw",
   "metadata": {
    "deletable": true,
    "editable": true,
    "raw_mimetype": "text/restructuredtext"
   },
   "source": [
    "The next task we want to achieve is to compute the intersection between the two segments.\n",
    "\n",
    "There is a :py:meth:`Segment2D.intersect_segment` method to compute intersection with another segment. It returns two objects, which can be:\n",
    "\n",
    "    - both None if segments do not intersect,\n",
    "    - a point and None if there is one intersection point,\n",
    "    - two points when segments are colinear."
   ]
  },
  {
   "cell_type": "code",
   "execution_count": null,
   "metadata": {
    "collapsed": false,
    "deletable": true,
    "editable": true
   },
   "outputs": [],
   "source": [
    "I0, I1 = AB.intersect_segment(CD)\n",
    "print(I0)\n",
    "print(I1)\n",
    "\n",
    "for obj in [A, B, C, D, AB, CD]:\n",
    "    obj.plot()\n",
    "    \n",
    "I0.plot(name='I', color='red')"
   ]
  },
  {
   "cell_type": "raw",
   "metadata": {
    "deletable": true,
    "editable": true,
    "raw_mimetype": "text/restructuredtext"
   },
   "source": [
    "Segment relative coordinates\n",
    "----------------------------"
   ]
  },
  {
   "cell_type": "raw",
   "metadata": {
    "deletable": true,
    "editable": true,
    "raw_mimetype": "text/restructuredtext"
   },
   "source": [
    "Another usefull information is to locate the intersection point not only with cartesian coordiante,\n",
    "but also with coordiante relative to each segment. This is achieve with the ``return_coords`` flag.\n",
    "\n",
    "Note that as there is not second intersection point, we can ignore `None` value, assigning them to a `_` variable."
   ]
  },
  {
   "cell_type": "code",
   "execution_count": null,
   "metadata": {
    "collapsed": false,
    "deletable": true,
    "editable": true
   },
   "outputs": [],
   "source": [
    "I0, _, (AB_coord, CD_coord, _, _)  = AB.intersect_segment(CD, return_coords=True)\n",
    "print(AB_coord, CD_coord)"
   ]
  },
  {
   "cell_type": "raw",
   "metadata": {
    "deletable": true,
    "editable": true,
    "raw_mimetype": "text/restructuredtext"
   },
   "source": [
    "``AB_coord`` is :math:`\\frac{1}{2}`, meaning the point is in the middle of the segment, while ``CD_coord`` is :math:`\\frac{1}{3}`, meaning the point is at a distance :math:`\\frac{|CD|}{3}` from the point ``C``."
   ]
  },
  {
   "cell_type": "raw",
   "metadata": {
    "deletable": true,
    "editable": true,
    "raw_mimetype": "text/restructuredtext"
   },
   "source": [
    "To change from cartesian coordinates to segment coordiante, use the :py:meth:`Point2D.at` method:"
   ]
  },
  {
   "cell_type": "code",
   "execution_count": null,
   "metadata": {
    "collapsed": false,
    "deletable": true,
    "editable": true
   },
   "outputs": [],
   "source": [
    "print(AB.at(AB_coord))\n",
    "print(CD.at(CD_coord))"
   ]
  },
  {
   "cell_type": "raw",
   "metadata": {
    "deletable": true,
    "editable": true,
    "raw_mimetype": "text/restructuredtext"
   },
   "source": [
    "To change from segment coordinate to cartesian coordiantes, use the :py:meth:`Point2D.where` method:"
   ]
  },
  {
   "cell_type": "code",
   "execution_count": null,
   "metadata": {
    "collapsed": false,
    "deletable": true,
    "editable": true
   },
   "outputs": [],
   "source": [
    "print(AB.where(I0))\n",
    "print(CD.where(I0))"
   ]
  },
  {
   "cell_type": "raw",
   "metadata": {
    "deletable": true,
    "editable": true,
    "raw_mimetype": "text/restructuredtext"
   },
   "source": [
    "Conlusion\n",
    "---------"
   ]
  },
  {
   "cell_type": "raw",
   "metadata": {
    "deletable": true,
    "editable": true,
    "raw_mimetype": "text/restructuredtext"
   },
   "source": [
    "This concludes the first tutorial part.\n",
    "\n",
    "The Python interpreter has allowed us to interactively construct points, segments, and compute intersection between them.\n",
    "This a very handy way to perform temporary computation, using Python interpreter as an advanced calculator, or test a idea, write a prototype, etc.\n",
    "\n",
    "The code can then be written to a Python script to be reused, and to build a library or an application.\n",
    "All the code will be interpreted and dynamically typed. If performance become an issue, we will want to add static typing. This is what will be covered in next section."
   ]
  },
  {
   "cell_type": "raw",
   "metadata": {
    "deletable": true,
    "editable": true,
    "raw_mimetype": "text/restructuredtext"
   },
   "source": [
    "==========================\n",
    "Using the Cython interface\n",
    "==========================\n",
    "\n",
    "``geomalgo`` provides a ``cython`` API, making it easy to:\n",
    "\n",
    "    - compile code instead of interpret it,\n",
    "    - add static typing for extension types, ``C`` built in, functions, etc,\n",
    "    - compile to full performance ``C`` code, using ``C structures`` instead of extension types.\n",
    "    \n",
    "We first activate ``cython`` compilation in the notebook."
   ]
  },
  {
   "cell_type": "code",
   "execution_count": null,
   "metadata": {
    "collapsed": false,
    "deletable": true,
    "editable": true
   },
   "outputs": [],
   "source": [
    "%load_ext Cython\n",
    "%load_ext wurlitzer"
   ]
  },
  {
   "cell_type": "raw",
   "metadata": {
    "deletable": true,
    "editable": true,
    "raw_mimetype": "text/restructuredtext"
   },
   "source": [
    "Compiling the code\n",
    "------------------\n",
    "\n",
    "Instead of interpreting source code, ``cython`` compiles ``cython`` code to ``C`` code,\n",
    "and the build a native Python module. Learn more about `Cython <http://cython.org/>`_.\n",
    "For example, let's rewrite the code in Cython. The ``%%cython`` magic do (learn more about \n",
    "`building cython code <http://docs.cython.org/en/latest/src/quickstart/build.html>`_):\n",
    "\n",
    "    - compile Cython code to C code,\n",
    "    - compile C code to Python native module,\n",
    "    - execute the module (hence, the Cython code)."
   ]
  },
  {
   "cell_type": "code",
   "execution_count": null,
   "metadata": {
    "collapsed": false,
    "deletable": true,
    "editable": true
   },
   "outputs": [],
   "source": [
    "%%cython\n",
    "\n",
    "import geomalgo as ga\n",
    "\n",
    "A = ga.Point2D(2, 1, name='A')\n",
    "B = ga.Point2D(6, 4, name='B')\n",
    "C = ga.Point2D(5, 2, name='C')\n",
    "D = ga.Point2D(2, 3.5, name='D')\n",
    "AB = ga.Segment2D(A, B)\n",
    "CD = ga.Segment2D(C, D)\n",
    "\n",
    "I0, I1 = AB.intersect_segment(CD)\n",
    "print(I0)\n",
    "print(I1)"
   ]
  },
  {
   "cell_type": "raw",
   "metadata": {
    "deletable": true,
    "editable": true,
    "raw_mimetype": "text/restructuredtext"
   },
   "source": [
    "Adding static typing\n",
    "--------------------\n",
    "\n",
    "Once the code is written in Cython, which compile to C, static typing can be added.\n",
    "The above code rewrittes to (notice the ``cimport`` instead of ``import``):"
   ]
  },
  {
   "cell_type": "code",
   "execution_count": null,
   "metadata": {
    "collapsed": false,
    "deletable": true,
    "editable": true,
    "scrolled": false
   },
   "outputs": [],
   "source": [
    "%%cython\n",
    "\n",
    "cimport geomalgo as ga\n",
    "\n",
    "cdef:\n",
    "    ga.Point2D A, B, C, D\n",
    "    ga.Segment2D AB, CD\n",
    "    \n",
    "A = ga.Point2D(2, 1, name='A')\n",
    "B = ga.Point2D(6, 4, name='B')\n",
    "C = ga.Point2D(5, 2, name='C')\n",
    "D = ga.Point2D(2, 3.5, name='D')\n",
    "AB = ga.Segment2D(A, B)\n",
    "CD = ga.Segment2D(C, D)\n",
    "\n",
    "I0, I1 = AB.intersect_segment(CD)\n",
    "print(I0)\n",
    "print(I1)"
   ]
  },
  {
   "cell_type": "raw",
   "metadata": {
    "deletable": true,
    "editable": true,
    "raw_mimetype": "text/restructuredtext"
   },
   "source": [
    "Using C structure instead of extension type\n",
    "-------------------------------------------\n",
    "\n",
    "Calling extention type methods is as fast as calling C functions on C structure,\n",
    "provided that extension type attributes and methods are all statically typed (``cdef``).\n",
    "However, extension types can not be stack allocated as efficiently as C structure.\n",
    "GeomAlgo relies on stack allocation for basic types (points, segments, etc).\n",
    "For performance, we need be able to use C structures, instead of extension types.\n",
    "\n",
    "At the end of this section, we will see that extension are wrapper around these C structures,\n",
    "and methods wrapper around C functions.\n",
    "\n",
    "The above code is rewritten using :c:type:`CPoint2D`, :c:type:`CSegment2D` and\n",
    ":c:func:`intersect_segment2d_segment2d`."
   ]
  },
  {
   "cell_type": "code",
   "execution_count": null,
   "metadata": {
    "collapsed": false,
    "deletable": true,
    "editable": true
   },
   "outputs": [],
   "source": [
    "%%cython\n",
    "\n",
    "from libc.stdio cimport printf\n",
    "\n",
    "cimport geomalgo as ga\n",
    "\n",
    "cdef:\n",
    "    ga.CPoint2D A, B, C, D, I0, I1\n",
    "    ga.CSegment2D AB, CD\n",
    "    double coords[4]\n",
    "    int n\n",
    "    \n",
    "A.x, A.y = 2, 1\n",
    "B.x, B.y = 6, 4\n",
    "\n",
    "C.x, C.y = 5, 2\n",
    "D.x, D.y = 2, 3.5\n",
    "\n",
    "ga.segment2d_set(&AB, &A, &B)\n",
    "ga.segment2d_set(&CD, &C, &D)\n",
    "\n",
    "n = ga.intersect_segment2d_segment2d(&AB, &CD, &I0, &I1, coords)\n",
    "\n",
    "printf(\"Number of intersection: %d\\n\", n)\n",
    "printf(\"Intersection point: (%.2f, %.2f)\\n\", I0.x, I0.y)"
   ]
  },
  {
   "cell_type": "raw",
   "metadata": {
    "collapsed": true,
    "deletable": true,
    "editable": true,
    "raw_mimetype": "text/restructuredtext"
   },
   "source": [
    "This generate \"pure\" C code, without reference to Python. It is as efficient as writting in C directly.\n"
   ]
  },
  {
   "cell_type": "raw",
   "metadata": {
    "deletable": true,
    "editable": true,
    "raw_mimetype": "text/restructuredtext"
   },
   "source": [
    "Relations between Python and Cython API\n",
    "---------------------------------------\n",
    "\n",
    "A Point2D is a wrapper around a CPoint2D, and coordinates are hold by CPoint2D.\n",
    "\n",
    ".. digraph:: Point2D\n",
    "    :align: center\n",
    "    \n",
    "    Point2D -> \"CPoint2D*\"\n",
    "    \"CPoint2D*\" -> x\n",
    "    \"CPoint2D*\" -> y\n",
    "    \"CPoint2D*\" [fillcolor=gray,style=\"rounded,filled\"]\n",
    "    x [fillcolor=gray,style=\"rounded,filled\"]\n",
    "    y [fillcolor=gray,style=\"rounded,filled\"]\n",
    "    \n",
    "For example:"
   ]
  },
  {
   "cell_type": "code",
   "execution_count": null,
   "metadata": {
    "collapsed": false,
    "deletable": true,
    "editable": true
   },
   "outputs": [],
   "source": [
    "%%cython\n",
    "\n",
    "cimport geomalgo as ga\n",
    "\n",
    "cdef:\n",
    "    ga.Point2D X\n",
    "    ga.CPoint2D* C_X\n",
    "    \n",
    "X = ga.Point2D(1, 2)\n",
    "    \n",
    "C_X = X.cpoint2d"
   ]
  },
  {
   "cell_type": "raw",
   "metadata": {
    "collapsed": true,
    "deletable": true,
    "editable": true,
    "raw_mimetype": "text/restructuredtext"
   },
   "source": [
    "The Python API of a Segment2D extension type has two attributes:\n",
    "    - Point2D A (extension type)\n",
    "    - Point2D B (extension type)\n",
    "    \n",
    "The Cython API has access to an additionnal attribute:\n",
    "    - CSegment2D (C structure)\n",
    "\n",
    "The CSegment2D struture has two members:\n",
    "    - CPoint2D* A (C structure)\n",
    "    - CPoint2D* B (C structure)\n",
    "    \n",
    "CSegment2D and Point2D A and B points to the same CPoint2D* A and B.\n",
    "    \n",
    ".. digraph:: Segment2D\n",
    "    :align: center\n",
    "    \n",
    "    Segment2D -> \"CSegment2D\"\n",
    "    Segment2D -> \"Point2D A\"\n",
    "    Segment2D -> \"Point2D B\"\n",
    "    CSegment2D -> \"CPoint2D* A\"\n",
    "    CSegment2D -> \"CPoint2D* B\"\n",
    "    \"Point2D A\" -> \"CPoint2D* A\"\n",
    "    \"Point2D B\" -> \"CPoint2D* B\"\n",
    "    \"CPoint2D* A\" -> \"Ax\"\n",
    "    \"CPoint2D* A\" -> \"Ay\"\n",
    "    \"CPoint2D* B\" -> \"Bx\"\n",
    "    \"CPoint2D* B\" -> \"By\"\n",
    "    \"CSegment2D\" [fillcolor=gray,style=\"rounded,filled\"]\n",
    "    \"CPoint2D* A\" [fillcolor=gray,style=\"rounded,filled\"]\n",
    "    \"CPoint2D* B\" [fillcolor=gray,style=\"rounded,filled\"]\n",
    "    \"Ax\" [fillcolor=gray,style=\"rounded,filled\"]\n",
    "    \"Ay\" [fillcolor=gray,style=\"rounded,filled\"]\n",
    "    \"Bx\" [fillcolor=gray,style=\"rounded,filled\"]\n",
    "    \"By\" [fillcolor=gray,style=\"rounded,filled\"]\n",
    "    \n",
    "For example:"
   ]
  },
  {
   "cell_type": "code",
   "execution_count": null,
   "metadata": {
    "collapsed": false,
    "deletable": true,
    "editable": true
   },
   "outputs": [],
   "source": [
    "%%cython\n",
    "\n",
    "cimport geomalgo as ga\n",
    "\n",
    "cdef:\n",
    "    ga.Point2D X, Y\n",
    "    ga.Segment2D XY\n",
    "    \n",
    "X = ga.Point2D(1, 2)\n",
    "Y = ga.Point2D(3, 4)\n",
    "\n",
    "XY = ga.Segment2D(X, Y)\n",
    "\n",
    "cdef:\n",
    "    ga.CSegment2D* C_XY\n",
    "    ga.CPoint2D* C_X\n",
    "    ga.CPoint2D* C_Y\n",
    "    \n",
    "C_XY = &XY.csegment2d\n",
    "\n",
    "# Points can be accessed via X and Y\n",
    "C_X = X.cpoint2d\n",
    "\n",
    "# Or via C_XY\n",
    "C_Y = C_XY.B"
   ]
  },
  {
   "cell_type": "raw",
   "metadata": {
    "collapsed": true,
    "deletable": true,
    "editable": true,
    "raw_mimetype": "text/restructuredtext"
   },
   "source": [
    "==========================\n",
    "Working with large dataset\n",
    "=========================="
   ]
  },
  {
   "cell_type": "raw",
   "metadata": {
    "deletable": true,
    "editable": true,
    "raw_mimetype": "text/restructuredtext"
   },
   "source": [
    "To conclude this tutorial, in this last part, the segment intersection computation will be applied to a (potentialy large) collection of segment."
   ]
  },
  {
   "cell_type": "code",
   "execution_count": null,
   "metadata": {
    "collapsed": false,
    "deletable": true,
    "editable": true
   },
   "outputs": [],
   "source": [
    "A = ga.Point2D(0, 0, name='A')\n",
    "B = ga.Point2D(8, 8, name='B')\n",
    "AB = ga.Segment2D(A, B)\n",
    "    \n",
    "segment_list = [\n",
    "    ga.Segment2D((2,1), (1,2)),\n",
    "    ga.Segment2D((3,2), (3,4)),\n",
    "    ga.Segment2D((2,6), (3,7)),\n",
    "    ga.Segment2D((5,5), (6,6)),\n",
    "    ga.Segment2D((4,4), (5,4)),\n",
    "    ga.Segment2D((6,8), (8,6)),\n",
    "    ga.Segment2D((5,1), (6,1)),\n",
    "]\n",
    "\n",
    "figure(figsize=(8,8))\n",
    "\n",
    "def plot_segments():\n",
    "    for obj in [A, B, AB]:\n",
    "        obj.plot()\n",
    "\n",
    "    for i, seg in enumerate(segment_list):\n",
    "        seg.plot(style='r-')\n",
    "        text(seg.B.x, seg.B.y+0.1, i, color='red')\n",
    "   \n",
    "plot_segments()\n",
    "axis('scaled')\n",
    "grid()"
   ]
  },
  {
   "cell_type": "raw",
   "metadata": {
    "deletable": true,
    "editable": true,
    "raw_mimetype": "text/restructuredtext"
   },
   "source": [
    "For example, we want to compute all intersection of red segments with the blue one, indexed by red segment indices. This should be optimized for a large number of red segments."
   ]
  },
  {
   "cell_type": "raw",
   "metadata": {
    "deletable": true,
    "editable": true,
    "raw_mimetype": "text/restructuredtext"
   },
   "source": [
    "Memory layout\n",
    "-------------\n",
    "\n",
    "Segment coordinates will be stored as SoA. geomalgo provides a SegmentCollection extension type to groups the 4 arrays together."
   ]
  },
  {
   "cell_type": "code",
   "execution_count": null,
   "metadata": {
    "collapsed": false,
    "deletable": true,
    "editable": true
   },
   "outputs": [],
   "source": [
    "xa = np.array([seg.A.x for seg in segment_list], dtype='d')\n",
    "xb = np.array([seg.B.x for seg in segment_list], dtype='d')\n",
    "\n",
    "ya = np.array([seg.A.y for seg in segment_list], dtype='d')\n",
    "yb = np.array([seg.B.y for seg in segment_list], dtype='d')\n",
    "\n",
    "segments = ga.Segment2DCollection(xa, xb, ya, yb)"
   ]
  },
  {
   "cell_type": "raw",
   "metadata": {
    "deletable": true,
    "editable": true,
    "raw_mimetype": "text/restructuredtext"
   },
   "source": [
    "A CSegment2D and its 2 CPoints2D are declared to iterate on the collection.\n",
    "\n",
    "The Segment2DCollection.get is used to set PQ for the current segment index."
   ]
  },
  {
   "cell_type": "code",
   "execution_count": null,
   "metadata": {
    "collapsed": false,
    "deletable": true,
    "editable": true
   },
   "outputs": [],
   "source": [
    "%%cython\n",
    "\n",
    "from libc.stdio cimport printf\n",
    "\n",
    "cimport geomalgo as ga\n",
    "\n",
    "def iter_segments(ga.Segment2DCollection segments):\n",
    "    cdef:\n",
    "        ga.CSegment2D PQ\n",
    "        ga.CPoint2D P, Q\n",
    "        int S\n",
    "\n",
    "    ga.segment2d_set(&PQ, &P, &Q)\n",
    "\n",
    "    for S in range(segments.size):\n",
    "        segments.get(S, &PQ)\n",
    "        printf(\"(%.0f, %.0f), (%.0f, %.0f)\\n\", P.x, P.y, Q.x, Q.y)"
   ]
  },
  {
   "cell_type": "code",
   "execution_count": null,
   "metadata": {
    "collapsed": false,
    "deletable": true,
    "editable": true
   },
   "outputs": [],
   "source": [
    "iter_segments(segments)"
   ]
  },
  {
   "cell_type": "raw",
   "metadata": {
    "collapsed": true,
    "deletable": true,
    "editable": true,
    "raw_mimetype": "text/restructuredtext"
   },
   "source": [
    "Computing intersection\n",
    "----------------------\n",
    "\n",
    "Once we can iterate the segment collection, intersection can be computed as\n",
    "in the previous part with the intersect_segment2d_segment2d function.\n",
    "\n",
    "We need to choose where to store the results. Each red segment may intersection\n",
    "the blue one on 0, 1 or 2 points. The total number of intersections points in\n",
    "not knonw in advance. We choose to allocate arrays to store results for the\n",
    "maximal number of intersection points. We also choose to store only the \n",
    "coordinates relative to the segment AB."
   ]
  },
  {
   "cell_type": "code",
   "execution_count": null,
   "metadata": {
    "collapsed": false,
    "deletable": true,
    "editable": true
   },
   "outputs": [],
   "source": [
    "%%cython\n",
    "\n",
    "import numpy as np\n",
    "cimport geomalgo as ga\n",
    "\n",
    "def compute_intersections(ga.Segment2D AB, ga.Segment2DCollection segments):\n",
    "    cdef:\n",
    "        ga.CSegment2D PQ\n",
    "        ga.CPoint2D P, Q\n",
    "        ga.CPoint2D I0, I1\n",
    "        double coords[4]\n",
    "        int S, C\n",
    "        \n",
    "        # Count of intersections for each segment. May be 0, 1 or 2.\n",
    "        int[:] count = np.empty(segments.size, dtype='int32')\n",
    "        int countmax = 2\n",
    "        \n",
    "        # Intersection coordinate relative to AB.\n",
    "        double[:,:] coord = np.empty((segments.size, countmax), dtype='d')\n",
    "        \n",
    "    ga.segment2d_set(&PQ, &P, &Q)\n",
    "\n",
    "    for S in range(segments.size):\n",
    "        segments.get(S, &PQ)\n",
    "        count[S] = ga.intersect_segment2d_segment2d(&AB.csegment2d,\n",
    "                                                    &PQ, &I0, &I1, coords)\n",
    "        for C in range(count[S]):\n",
    "            coord[S,C] = coords[C*2]\n",
    "            \n",
    "    return np.asarray(count), np.asarray(coord)"
   ]
  },
  {
   "cell_type": "raw",
   "metadata": {
    "deletable": true,
    "editable": true,
    "raw_mimetype": "text/restructuredtext"
   },
   "source": [
    "Let's call this function on our segments, and plot the result."
   ]
  },
  {
   "cell_type": "code",
   "execution_count": null,
   "metadata": {
    "collapsed": false,
    "deletable": true,
    "editable": true
   },
   "outputs": [],
   "source": [
    "counts, coords = compute_intersections(AB, segments)"
   ]
  },
  {
   "cell_type": "code",
   "execution_count": null,
   "metadata": {
    "collapsed": false,
    "deletable": true,
    "editable": true
   },
   "outputs": [],
   "source": [
    "print(counts)\n",
    "print(coords)"
   ]
  },
  {
   "cell_type": "code",
   "execution_count": null,
   "metadata": {
    "collapsed": false,
    "deletable": true,
    "editable": true
   },
   "outputs": [],
   "source": [
    "figure(figsize=(8,8))\n",
    "plot_segments()\n",
    "grid()\n",
    "axis('scaled')\n",
    "\n",
    "for S, (count, coord) in enumerate(zip(counts, coords)):\n",
    "    for C in range(count):\n",
    "        coord = coords[S, C]\n",
    "        P = AB.at(coord)\n",
    "        plot(P.x, P.y, 'ro')"
   ]
  },
  {
   "cell_type": "raw",
   "metadata": {
    "deletable": true,
    "editable": true
   },
   "source": [
    "A high level Python extension type may now be create to wrap the compute_intersections code and its\n",
    "results in a Pythonic API."
   ]
  },
  {
   "cell_type": "raw",
   "metadata": {
    "deletable": true,
    "editable": true,
    "raw_mimetype": "text/restructuredtext"
   },
   "source": [
    "Conlusion\n",
    "---------\n",
    "\n",
    "In this tutorial, we've explored the Python and Cython API of geomalgo, and how to easily\n",
    "move from one to another depending on the needs.\n",
    "\n",
    "Python API allows interactive processing using the Python scientific stack (numpy, matplotlib,\n",
    "jupyter notebook, etc), while Cython API give use C like performances.\n",
    "\n",
    "Collection of object are stored as SoA, which can be iterate using a stack allocated \n",
    "element structure: for example, a Segment2DCollection is allocated using 4 arrays,\n",
    "and can be iterated using a CSegment2D structure to be processed."
   ]
  }
 ],
 "metadata": {
  "celltoolbar": "Raw Cell Format",
  "kernelspec": {
   "display_name": "Python 3",
   "language": "python",
   "name": "python3"
  },
  "language_info": {
   "codemirror_mode": {
    "name": "ipython",
    "version": 3
   },
   "file_extension": ".py",
   "mimetype": "text/x-python",
   "name": "python",
   "nbconvert_exporter": "python",
   "pygments_lexer": "ipython3",
   "version": "3.5.3"
  }
 },
 "nbformat": 4,
 "nbformat_minor": 2
}
