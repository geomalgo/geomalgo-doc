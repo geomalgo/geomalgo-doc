{
 "cells": [
  {
   "cell_type": "code",
   "execution_count": 1,
   "metadata": {
    "collapsed": false,
    "nbsphinx": "hidden",
    "scrolled": true
   },
   "outputs": [
    {
     "name": "stdout",
     "output_type": "stream",
     "text": [
      "Populating the interactive namespace from numpy and matplotlib\n"
     ]
    }
   ],
   "source": [
    "import geomalgo as ga\n",
    "%load_ext Cython\n",
    "%load_ext wurlitzer\n",
    "%pylab inline"
   ]
  },
  {
   "cell_type": "raw",
   "metadata": {
    "raw_mimetype": "text/restructuredtext"
   },
   "source": [
    "*******\n",
    "Vectors\n",
    "*******\n",
    "\n",
    "There are two data structures to represent a vector in\n",
    "two-dimensional space, of components :math:`(x, y)`:\n",
    "\n",
    "    - the C structure :c:type:`CVector2D`,\n",
    "    - the Python extension type :py:class:`Vector2D`, a wrapper around :c:type:`CVector2D`.\n",
    "\n",
    ".. digraph:: Vector2D\n",
    "    :align: center\n",
    "    \n",
    "    Vector2D -> \"CVector2D*\" \n",
    "    \"CVector2D*\" -> x\n",
    "    \"CVector2D*\" -> y\n",
    "    \"CVector2D*\" [fillcolor=gray,style=\"rounded,filled\"]\n",
    "    x [fillcolor=gray,style=\"rounded,filled\"]\n",
    "    y [fillcolor=gray,style=\"rounded,filled\"]"
   ]
  },
  {
   "cell_type": "raw",
   "metadata": {
    "raw_mimetype": "text/restructuredtext"
   },
   "source": [
    "CVector2D C structure\n",
    "=====================\n",
    "\n",
    "A :c:type:`CVector2D` has just two members,\n",
    "to store its components:\n",
    "\n",
    ".. c:type:: CVector2D\n",
    "\n",
    "    .. c:member:: double x\n",
    "    .. c:member:: double y"
   ]
  },
  {
   "cell_type": "code",
   "execution_count": 2,
   "metadata": {
    "collapsed": false
   },
   "outputs": [
    {
     "name": "stdout",
     "output_type": "stream",
     "text": [
      "u: (1.0, 2.0)\n"
     ]
    }
   ],
   "source": [
    "%%cython\n",
    "\n",
    "from libc.stdio cimport printf\n",
    "cimport geomalgo as ga\n",
    "\n",
    "cdef:\n",
    "    ga.CVector2D u\n",
    "    \n",
    "u.x = 1\n",
    "u.y = 2\n",
    "\n",
    "printf('u: (%.1f, %.1f)\\n', u.x, u.y)"
   ]
  },
  {
   "cell_type": "raw",
   "metadata": {
    "raw_mimetype": "text/restructuredtext"
   },
   "source": [
    ":c:type:`CVector2D` can be allocated and destroyed with these\n",
    "functions:\n",
    "\n",
    ".. c:function:: CVector2D* new_vector2d()\n",
    "\n",
    "\n",
    ".. c:function:: void del_vector2d(CVector2D* V)\n",
    "\n",
    ".. note:: \n",
    "\n",
    "    This functions are rarely used, as C structure in GeomAlgo are usually stack-allocated."
   ]
  },
  {
   "cell_type": "code",
   "execution_count": 5,
   "metadata": {
    "collapsed": false
   },
   "outputs": [
    {
     "name": "stdout",
     "output_type": "stream",
     "text": [
      "u: (1.0, 2.0)\n"
     ]
    }
   ],
   "source": [
    "%%cython\n",
    "\n",
    "from libc.stdio cimport printf\n",
    "cimport geomalgo as ga\n",
    "\n",
    "cdef:\n",
    "    ga.CVector2D* u\n",
    "    \n",
    "u = ga.new_vector2d()\n",
    "\n",
    "u.x = 1\n",
    "u.y = 2\n",
    "\n",
    "printf('u: (%.1f, %.1f)\\n', u.x, u.y)\n",
    "\n",
    "ga.del_vector2d(u)"
   ]
  },
  {
   "cell_type": "raw",
   "metadata": {
    "raw_mimetype": "text/restructuredtext"
   },
   "source": [
    "Vector2D Python extension\n",
    "=========================\n",
    "\n",
    "A :py:class:`Vector2D` take components as arguments.\n",
    "            \n",
    ".. py:class:: Vector2D(x, y)\n",
    "        \n",
    "    Attributes:\n",
    "        \n",
    "    .. py:attribute:: cvector2d: CVector2D*"
   ]
  },
  {
   "cell_type": "code",
   "execution_count": 6,
   "metadata": {
    "collapsed": false
   },
   "outputs": [
    {
     "name": "stdout",
     "output_type": "stream",
     "text": [
      "<Vector2D(1.0,2.0>\n"
     ]
    }
   ],
   "source": [
    "u = ga.Vector2D(1, 2)\n",
    "print(u)"
   ]
  },
  {
   "cell_type": "raw",
   "metadata": {
    "raw_mimetype": "text/restructuredtext"
   },
   "source": [
    "The wrapped C structure :py:attr:`Vector2D.cvector2d` is\n",
    "accessible only using Cython."
   ]
  },
  {
   "cell_type": "code",
   "execution_count": 8,
   "metadata": {
    "collapsed": false
   },
   "outputs": [
    {
     "name": "stdout",
     "output_type": "stream",
     "text": [
      "(1.0, 2.0)\n"
     ]
    }
   ],
   "source": [
    "%%cython\n",
    "\n",
    "from libc.stdio cimport printf\n",
    "cimport geomalgo as ga\n",
    "\n",
    "cdef:\n",
    "    ga.Vector2D u\n",
    "    ga.CVector2D* ptr\n",
    "    \n",
    "u = ga.Vector2D(1, 2)\n",
    "\n",
    "ptr = u.cvector2d\n",
    "printf(\"(%.1f, %.1f)\\n\", ptr.x, ptr.y)"
   ]
  },
  {
   "cell_type": "raw",
   "metadata": {
    "raw_mimetype": "text/restructuredtext"
   },
   "source": [
    "Get and set components\n",
    "======================\n",
    "\n",
    ":c:type:`CVector2D` members are accessed directly to get and\n",
    "set coordinates:"
   ]
  },
  {
   "cell_type": "code",
   "execution_count": 9,
   "metadata": {
    "collapsed": false
   },
   "outputs": [
    {
     "name": "stdout",
     "output_type": "stream",
     "text": [
      "u: (1.0, 2.0)\n",
      "u: (4.0, -5.0)\n"
     ]
    }
   ],
   "source": [
    "%%cython\n",
    "\n",
    "from libc.stdio cimport printf\n",
    "cimport geomalgo as ga\n",
    "\n",
    "cdef:\n",
    "    ga.CVector2D u\n",
    "    \n",
    "u.x, u.y = 1, 2\n",
    "printf(\"u: (%.1f, %.1f)\\n\", u.x, u.y)\n",
    "    \n",
    "u.x, u.y = 4, -5\n",
    "printf(\"u: (%.1f, %.1f)\\n\", u.x, u.y)"
   ]
  },
  {
   "cell_type": "raw",
   "metadata": {
    "raw_mimetype": "text/restructuredtext"
   },
   "source": [
    ":py:class:`Vector2D` as two properties ``x`` and ``y`` to\n",
    "get/set coordinates from/to its underlying ``cvector2d`` attribute:\n",
    "\n",
    ".. py:attribute:: Vector2D.x\n",
    "\n",
    ".. py:attribute:: Vector2D.y"
   ]
  },
  {
   "cell_type": "code",
   "execution_count": 10,
   "metadata": {
    "collapsed": false
   },
   "outputs": [
    {
     "name": "stdout",
     "output_type": "stream",
     "text": [
      "<Vector2D(1.0,2.0>\n",
      "<Vector2D(4.0,-5.0>\n"
     ]
    }
   ],
   "source": [
    "u = ga.Vector2D(1, 2)\n",
    "print(u)\n",
    "\n",
    "u.x, u.y = 4, -5\n",
    "print(u)"
   ]
  },
  {
   "cell_type": "raw",
   "metadata": {
    "raw_mimetype": "text/restructuredtext"
   },
   "source": [
    "Vector operators\n",
    "================\n",
    "\n",
    "Vectors addition\n",
    "----------------\n",
    "\n",
    "Compute the vector\n",
    ":math:`\\mathbf{AC} = \\mathbf{AB} + \\mathbf{BC}`\n",
    "\n",
    ".. py:method:: Vector2D.__add__(self, other)"
   ]
  },
  {
   "cell_type": "code",
   "execution_count": 16,
   "metadata": {
    "collapsed": false
   },
   "outputs": [
    {
     "name": "stdout",
     "output_type": "stream",
     "text": [
      "<Vector2D(1.0,2.0>\n"
     ]
    }
   ],
   "source": [
    "AB = ga.Vector2D(0, 1)\n",
    "BC = ga.Vector2D(1, 1)\n",
    "\n",
    "AC = AB + BC\n",
    "print(AC)"
   ]
  },
  {
   "cell_type": "raw",
   "metadata": {
    "raw_mimetype": "text/restructuredtext"
   },
   "source": [
    ".. c:function:: void add_vector2d(CVector2D *AC, CVector2D *AB, CVector2D *BC)\n",
    "\n",
    "    ``AC`` must be already allocated."
   ]
  },
  {
   "cell_type": "code",
   "execution_count": 18,
   "metadata": {
    "collapsed": false
   },
   "outputs": [
    {
     "name": "stdout",
     "output_type": "stream",
     "text": [
      "(1.0, 2.0)\n"
     ]
    }
   ],
   "source": [
    "%%cython\n",
    "\n",
    "from libc.stdio cimport printf\n",
    "cimport geomalgo as ga\n",
    "\n",
    "cdef:\n",
    "    ga.CVector2D AB, BC, AC\n",
    "    \n",
    "AB.x, AB.y = 0, 1\n",
    "BC.x, BC.y = 1, 1\n",
    "\n",
    "ga.add_vector2d(&AC, &AB, &BC)\n",
    "printf(\"(%.1f, %.1f)\\n\", AC.x, AC.y)"
   ]
  },
  {
   "cell_type": "raw",
   "metadata": {
    "raw_mimetype": "text/restructuredtext"
   },
   "source": [
    "Vectors substraction\n",
    "--------------------\n",
    "\n",
    "Compute the vector\n",
    ":math:`\\mathbf{AB} = \\mathbf{AC} - \\mathbf{BC}`\n",
    "\n",
    ".. py:method:: Vector2D.__sub__(self, other)"
   ]
  },
  {
   "cell_type": "code",
   "execution_count": 21,
   "metadata": {
    "collapsed": false
   },
   "outputs": [
    {
     "name": "stdout",
     "output_type": "stream",
     "text": [
      "<Vector2D(0.0,1.0>\n"
     ]
    }
   ],
   "source": [
    "AC = ga.Vector2D(1, 2)\n",
    "BC = ga.Vector2D(1, 1)\n",
    "\n",
    "AB = AC - BC\n",
    "print(AB)"
   ]
  },
  {
   "cell_type": "raw",
   "metadata": {
    "raw_mimetype": "text/restructuredtext"
   },
   "source": [
    ".. c:function:: void subtract_vector2d(CVector2D *AB, CVector2D *AC, CVector2D *BC)\n",
    "\n",
    "    ``AB`` must be already allocated."
   ]
  },
  {
   "cell_type": "code",
   "execution_count": 22,
   "metadata": {
    "collapsed": false
   },
   "outputs": [
    {
     "name": "stdout",
     "output_type": "stream",
     "text": [
      "(0.0, 1.0)\n"
     ]
    }
   ],
   "source": [
    "%%cython\n",
    "\n",
    "from libc.stdio cimport printf\n",
    "cimport geomalgo as ga\n",
    "\n",
    "cdef:\n",
    "    ga.CVector2D AB, BC, AC\n",
    "    \n",
    "AC.x, AC.y = 1, 2\n",
    "BC.x, BC.y = 1, 1\n",
    "\n",
    "ga.subtract_vector2d(&AB, &AC, &BC)\n",
    "printf(\"(%.1f, %.1f)\\n\", AB.x, AB.y)"
   ]
  },
  {
   "cell_type": "raw",
   "metadata": {
    "raw_mimetype": "text/restructuredtext"
   },
   "source": [
    "Vector multiplication\n",
    "----------------------\n",
    "\n",
    "Compute the vector :math:`\\mathbf{t} = \\alpha \\mathbf{u}`\n",
    "    \n",
    ".. py:method:: Point2D.__mul__(self, alpha)"
   ]
  },
  {
   "cell_type": "code",
   "execution_count": 24,
   "metadata": {
    "collapsed": false
   },
   "outputs": [
    {
     "name": "stdout",
     "output_type": "stream",
     "text": [
      "<Vector2D(2.0,4.0>\n"
     ]
    }
   ],
   "source": [
    "u = ga.Vector2D(1, 2)\n",
    "t = u*2\n",
    "print(t)"
   ]
  },
  {
   "cell_type": "raw",
   "metadata": {
    "raw_mimetype": "text/restructuredtext"
   },
   "source": [
    ".. c:function:: void vector2d_times_scalar(CVector2D *t, double alpha, CVector2D *u)\n",
    "\n",
    "    ``t`` must be already allocated."
   ]
  },
  {
   "cell_type": "code",
   "execution_count": 26,
   "metadata": {
    "collapsed": false
   },
   "outputs": [
    {
     "name": "stdout",
     "output_type": "stream",
     "text": [
      "(2.0, 4.0)"
     ]
    }
   ],
   "source": [
    "%%cython\n",
    "\n",
    "from libc.stdio cimport printf\n",
    "cimport geomalgo as ga\n",
    "\n",
    "cdef:\n",
    "    ga.CVector2D u, t\n",
    "    \n",
    "u.x, u.y = 1, 2\n",
    "ga.vector2d_times_scalar(&t, 2., &u)\n",
    "printf(\"(%.1f, %.1f)\", t.x, t.y)"
   ]
  },
  {
   "cell_type": "raw",
   "metadata": {
    "raw_mimetype": "text/restructuredtext"
   },
   "source": [
    "Vectors dot product\n",
    "-------------------\n",
    "\n",
    "Compute the dot product :math:`u_x v_x + u_y v_y` between vectors\n",
    ":math:`\\mathbf{u}` and :math:`\\mathbf{v}`.\n",
    "\n",
    ".. py:method:: Point2D.dot(self, other)"
   ]
  },
  {
   "cell_type": "code",
   "execution_count": 29,
   "metadata": {
    "collapsed": false
   },
   "outputs": [
    {
     "data": {
      "text/plain": [
       "11.0"
      ]
     },
     "execution_count": 29,
     "metadata": {},
     "output_type": "execute_result"
    }
   ],
   "source": [
    "u = ga.Vector2D(1, 2)\n",
    "v = ga.Vector2D(3, 4)\n",
    "u.dot(v)"
   ]
  },
  {
   "cell_type": "raw",
   "metadata": {
    "raw_mimetype": "text/restructuredtext"
   },
   "source": [
    ".. c:function:: double dot_product2d(CVector2D *u, CVector2D *v)"
   ]
  },
  {
   "cell_type": "code",
   "execution_count": 32,
   "metadata": {
    "collapsed": false
   },
   "outputs": [
    {
     "name": "stdout",
     "output_type": "stream",
     "text": [
      "11.0\n"
     ]
    }
   ],
   "source": [
    "%%cython\n",
    "\n",
    "from libc.stdio cimport printf\n",
    "cimport geomalgo as ga\n",
    "\n",
    "cdef:\n",
    "    ga.CVector2D u, v\n",
    "    \n",
    "u.x, u.y = 1, 2\n",
    "v.x, v.y = 3, 4\n",
    "\n",
    "printf(\"%.1f\\n\", ga.dot_product2d(&u, &v))"
   ]
  },
  {
   "cell_type": "raw",
   "metadata": {
    "raw_mimetype": "text/restructuredtext"
   },
   "source": [
    "Vectors cross product\n",
    "---------------------\n",
    "\n",
    "Compute the cross product :math:`u_x v_y - u_y v_x` between\n",
    "vectors :math:`\\mathbf{u}` and :math:`\\mathbf{v}`.\n",
    "    \n",
    ".. py:method:: Point2D.__xor__(self, other)"
   ]
  },
  {
   "cell_type": "code",
   "execution_count": 33,
   "metadata": {
    "collapsed": false
   },
   "outputs": [
    {
     "data": {
      "text/plain": [
       "-2.0"
      ]
     },
     "execution_count": 33,
     "metadata": {},
     "output_type": "execute_result"
    }
   ],
   "source": [
    "u = ga.Vector2D(1, 2)\n",
    "v = ga.Vector2D(3, 4)\n",
    "u^v"
   ]
  },
  {
   "cell_type": "raw",
   "metadata": {
    "raw_mimetype": "text/restructuredtext"
   },
   "source": [
    ".. c:function:: double cross_product2d(CVector2D *u, CVector2D *v)"
   ]
  },
  {
   "cell_type": "code",
   "execution_count": 34,
   "metadata": {
    "collapsed": false
   },
   "outputs": [
    {
     "name": "stdout",
     "output_type": "stream",
     "text": [
      "-2.0\n"
     ]
    }
   ],
   "source": [
    "%%cython\n",
    "\n",
    "from libc.stdio cimport printf\n",
    "cimport geomalgo as ga\n",
    "\n",
    "cdef:\n",
    "    ga.CVector2D u, v\n",
    "    \n",
    "u.x, u.y = 1, 2\n",
    "v.x, v.y = 3, 4\n",
    "\n",
    "printf(\"%.1f\\n\", ga.cross_product2d(&u, &v))"
   ]
  },
  {
   "cell_type": "raw",
   "metadata": {
    "raw_mimetype": "text/restructuredtext"
   },
   "source": [
    "Norms\n",
    "=====\n",
    "\n",
    "Compute the norm :math:`|\\mathbf{u}| = \\sqrt{u_x^2 + u_y^2}`.\n",
    "\n",
    ".. py:attribute:: Vector2D.norm"
   ]
  },
  {
   "cell_type": "code",
   "execution_count": 11,
   "metadata": {
    "collapsed": false
   },
   "outputs": [
    {
     "data": {
      "text/plain": [
       "5.0"
      ]
     },
     "execution_count": 11,
     "metadata": {},
     "output_type": "execute_result"
    }
   ],
   "source": [
    "u = ga.Vector2D(3, 4)\n",
    "u.norm"
   ]
  },
  {
   "cell_type": "raw",
   "metadata": {
    "raw_mimetype": "text/restructuredtext"
   },
   "source": [
    ".. c:function:: double compute_norm2d(CVector2D *u)"
   ]
  },
  {
   "cell_type": "code",
   "execution_count": 13,
   "metadata": {
    "collapsed": false
   },
   "outputs": [
    {
     "name": "stdout",
     "output_type": "stream",
     "text": [
      "5.0\n"
     ]
    }
   ],
   "source": [
    "%%cython\n",
    "\n",
    "from libc.stdio cimport printf\n",
    "cimport geomalgo as ga\n",
    "\n",
    "cdef:\n",
    "    ga.CVector2D u\n",
    "    \n",
    "u.x, u.y = 3, 4\n",
    "printf(\"%.1f\\n\", ga.compute_norm2d(&u))"
   ]
  },
  {
   "cell_type": "raw",
   "metadata": {
    "raw_mimetype": "text/restructuredtext"
   },
   "source": [
    "Normalize vector :math:`\\mathbf{u}` so that its\n",
    "norm :math:`|\\mathbf{u}|` is `1`.\n",
    "        \n",
    ".. py:method:: Point2D.normalize(self)"
   ]
  },
  {
   "cell_type": "code",
   "execution_count": 14,
   "metadata": {
    "collapsed": false
   },
   "outputs": [
    {
     "name": "stdout",
     "output_type": "stream",
     "text": [
      "<Vector2D(0.6,0.8>\n",
      "1.0\n"
     ]
    }
   ],
   "source": [
    "u = ga.Vector2D(3, 4)\n",
    "u.normalize()\n",
    "print(u)\n",
    "print(u.norm)"
   ]
  },
  {
   "cell_type": "raw",
   "metadata": {
    "raw_mimetype": "text/restructuredtext"
   },
   "source": [
    ".. c:function:: void normalize_vector2d(CVector2D *u)"
   ]
  },
  {
   "cell_type": "code",
   "execution_count": 15,
   "metadata": {
    "collapsed": false
   },
   "outputs": [
    {
     "name": "stdout",
     "output_type": "stream",
     "text": [
      "(0.6, 0.8)\n",
      "1.0\n"
     ]
    }
   ],
   "source": [
    "%%cython\n",
    "\n",
    "from libc.stdio cimport printf\n",
    "cimport geomalgo as ga\n",
    "\n",
    "cdef:\n",
    "    ga.CVector2D u\n",
    "    \n",
    "u.x, u.y = 3, 4\n",
    "ga.normalize_vector2d(&u)\n",
    "printf(\"(%.1f, %.1f)\\n\", u.x, u.y)\n",
    "printf(\"%.1f\\n\", ga.compute_norm2d(&u))"
   ]
  },
  {
   "cell_type": "raw",
   "metadata": {
    "raw_mimetype": "text/restructuredtext"
   },
   "source": [
    "Normals\n",
    "======="
   ]
  },
  {
   "cell_type": "raw",
   "metadata": {
    "raw_mimetype": "text/restructuredtext"
   },
   "source": [
    "Compute the unitary (:math:`|\\mathbf{u}=1|` ) normal :math:`\\mathbf{u}`\n",
    "of vector :math:`\\mathbf{u}`.\n",
    "\n",
    ".. py:attribute:: Point2D.normal\n",
    "            \n",
    "    (property)"
   ]
  },
  {
   "cell_type": "code",
   "execution_count": 42,
   "metadata": {
    "collapsed": false,
    "raw_mimetype": "text/restructuredtext"
   },
   "outputs": [
    {
     "name": "stdout",
     "output_type": "stream",
     "text": [
      "<Vector2D(1.0,-0.0>\n"
     ]
    }
   ],
   "source": [
    "u = ga.Vector2D(0, 1)\n",
    "print(u.normal)"
   ]
  },
  {
   "cell_type": "raw",
   "metadata": {
    "collapsed": true,
    "deletable": true,
    "editable": true,
    "raw_mimetype": "text/restructuredtext"
   },
   "source": [
    ".. c:function:: void compute_normal2d(CVector2D *n, CVector2D *u, double norm)\n",
    "\n",
    "\n",
    "    ``norm`` argument can be previously obtained with\n",
    "    :c:func:`compute_norm2d`\n",
    "\n",
    "    ``n`` must be already allocated.\n"
   ]
  },
  {
   "cell_type": "code",
   "execution_count": 48,
   "metadata": {
    "collapsed": false
   },
   "outputs": [
    {
     "name": "stdout",
     "output_type": "stream",
     "text": [
      "(1.0, -0.0)\n"
     ]
    }
   ],
   "source": [
    "%%cython\n",
    "\n",
    "from libc.stdio cimport printf\n",
    "cimport geomalgo as ga\n",
    "\n",
    "cdef:\n",
    "    ga.CVector2D u, n\n",
    "    double norm\n",
    "    \n",
    "u.x, u.y = 0, 1\n",
    "    \n",
    "norm = ga.compute_norm2d(&u)\n",
    "ga.compute_normal2d(&n, &u, norm)\n",
    "printf(\"(%.1f, %.1f)\\n\", n.x, n.y)"
   ]
  },
  {
   "cell_type": "code",
   "execution_count": null,
   "metadata": {
    "collapsed": true
   },
   "outputs": [],
   "source": []
  }
 ],
 "metadata": {
  "celltoolbar": "Raw Cell Format",
  "kernelspec": {
   "display_name": "Python 3",
   "language": "python",
   "name": "python3"
  },
  "language_info": {
   "codemirror_mode": {
    "name": "ipython",
    "version": 3
   },
   "file_extension": ".py",
   "mimetype": "text/x-python",
   "name": "python",
   "nbconvert_exporter": "python",
   "pygments_lexer": "ipython3",
   "version": "3.5.3"
  }
 },
 "nbformat": 4,
 "nbformat_minor": 2
}
