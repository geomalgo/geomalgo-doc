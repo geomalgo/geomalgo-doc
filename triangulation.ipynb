{
 "cells": [
  {
   "cell_type": "raw",
   "metadata": {
    "deletable": true,
    "editable": true,
    "raw_mimetype": "text/restructuredtext"
   },
   "source": [
    "*************\n",
    "Triangulation\n",
    "*************"
   ]
  },
  {
   "cell_type": "raw",
   "metadata": {
    "deletable": true,
    "editable": true,
    "raw_mimetype": "text/restructuredtext"
   },
   "source": [
    "Introduction\n",
    "============\n",
    "\n",
    "This tutorial is written in a Jupyter notebook.\n",
    "pylab is imported, and matplotlib figures are inlined in the notebook.\n",
    "geomalgo is imported as ga."
   ]
  },
  {
   "cell_type": "code",
   "execution_count": 1,
   "metadata": {
    "collapsed": false,
    "deletable": true,
    "editable": true,
    "scrolled": true
   },
   "outputs": [
    {
     "name": "stdout",
     "output_type": "stream",
     "text": [
      "Populating the interactive namespace from numpy and matplotlib\n"
     ]
    }
   ],
   "source": [
    "%pylab inline\n",
    "\n",
    "import geomalgo as ga"
   ]
  },
  {
   "cell_type": "raw",
   "metadata": {
    "deletable": true,
    "editable": true,
    "raw_mimetype": "text/restructuredtext"
   },
   "source": [
    "x, y and trivtx\n",
    "---------------"
   ]
  },
  {
   "cell_type": "raw",
   "metadata": {
    "collapsed": true,
    "deletable": true,
    "editable": true,
    "raw_mimetype": "text/restructuredtext"
   },
   "source": [
    "A triangulation is a subdivision of a two-dimensional domain into triangles.\n",
    "\n",
    "A triangulation is defined by:\n",
    "\n",
    "   - its vertices: two 1D arrays ``x`` and ``y`` for coordiantes,\n",
    "   - its triangles: one 2D array ``trivtx``, giving the 3 vertice indices of\n",
    "     each triangle."
   ]
  },
  {
   "cell_type": "code",
   "execution_count": 2,
   "metadata": {
    "collapsed": false,
    "deletable": true,
    "editable": true
   },
   "outputs": [
    {
     "data": {
      "image/png": "[encoded data removed]",
      "text/plain": [
       "<matplotlib.figure.Figure at 0x7fc4674b6e48>"
      ]
     },
     "metadata": {},
     "output_type": "display_data"
    }
   ],
   "source": [
    "x = array([0, 1, 2, 0, 1, 2, 0, 1], dtype='d')\n",
    "y = array([0, 0, 0, 1, 1, 1, 2, 2], dtype='d')\n",
    "trivtx = array([[0, 1, 3], [1, 2, 4], [1, 4, 3], [2, 5, 4],\n",
    "                [3, 4, 6], [4, 7, 6]], dtype='int32')\n",
    "\n",
    "def plot_with_indices():\n",
    "    # Plot triangulation.\n",
    "    triplot(x, y, trivtx)\n",
    "\n",
    "    # Plot vertices indices.\n",
    "    for ivert, (xvert, yvert) in enumerate(zip(x, y)):\n",
    "        text(xvert, yvert, ivert)\n",
    "\n",
    "    # Plot triangle indices.\n",
    "    for itri, (v0, v1, v2) in enumerate(trivtx):\n",
    "        xcenter = (x[v0] + x[v1] + x[v2]) / 3.\n",
    "        ycenter = (y[v0] + y[v1] + y[v2]) / 3.\n",
    "        text(xcenter, ycenter, itri, color='red')\n",
    "\n",
    "    axis('scaled')\n",
    "    show()\n",
    "    \n",
    "plot_with_indices()"
   ]
  },
  {
   "cell_type": "raw",
   "metadata": {
    "deletable": true,
    "editable": true,
    "raw_mimetype": "text/restructuredtext"
   },
   "source": [
    "For example, the vertice indices of triangle 2 are:"
   ]
  },
  {
   "cell_type": "code",
   "execution_count": 3,
   "metadata": {
    "collapsed": false,
    "deletable": true,
    "editable": true
   },
   "outputs": [
    {
     "name": "stdout",
     "output_type": "stream",
     "text": [
      "[1 4 3]\n"
     ]
    }
   ],
   "source": [
    "print(trivtx[2])"
   ]
  },
  {
   "cell_type": "raw",
   "metadata": {
    "deletable": true,
    "editable": true,
    "raw_mimetype": "text/restructuredtext"
   },
   "source": [
    "ga.Triangulation2D\n",
    "------------------\n",
    "\n",
    "The main purpose of this extension type is to group this arrays together."
   ]
  },
  {
   "cell_type": "code",
   "execution_count": 4,
   "metadata": {
    "collapsed": true,
    "deletable": true,
    "editable": true
   },
   "outputs": [],
   "source": [
    "TG = ga.Triangulation2D(x, y, trivtx)              "
   ]
  },
  {
   "cell_type": "raw",
   "metadata": {
    "deletable": true,
    "editable": true,
    "raw_mimetype": "text/restructuredtext"
   },
   "source": [
    ".. note::\n",
    "\n",
    "    Point2D, Segment2D Triangle2D, etc, are objects that exist in a large number in a program.\n",
    "    For example, a numerical simulation may create 10 millions of points.\n",
    "    These points will be stored in SoA x and y.\n",
    "    There is a Point2D extension type, and an associated CPoint2D C structure that can be\n",
    "    stack-allocated for high performance computing on these million of points.\n",
    "\n",
    "    For Triangulation2D, there is typically one or two objects in a program. There do not\n",
    "    need stack allocation, and as a such there is no need for C structure."
   ]
  },
  {
   "cell_type": "raw",
   "metadata": {
    "deletable": true,
    "editable": true,
    "raw_mimetype": "text/restructuredtext"
   },
   "source": [
    "Iterating on triangle\n",
    "=====================\n",
    "\n",
    "To iterate a triangle, one first extract triangle vertice indices\n",
    "from ``trivtx``, then vertice coordinates from ``x`` and ``y``."
   ]
  },
  {
   "cell_type": "code",
   "execution_count": 5,
   "metadata": {
    "collapsed": true,
    "deletable": true,
    "editable": true
   },
   "outputs": [],
   "source": [
    "%load_ext Cython\n",
    "%load_ext wurlitzer"
   ]
  },
  {
   "cell_type": "code",
   "execution_count": 6,
   "metadata": {
    "collapsed": false,
    "deletable": true,
    "editable": true
   },
   "outputs": [],
   "source": [
    "%%cython\n",
    "\n",
    "from libc.stdio cimport printf\n",
    "cimport geomalgo as ga\n",
    "\n",
    "def get_triangle(ga.Triangulation2D TG, int T):\n",
    "    cdef:\n",
    "        int IA, IB, V2\n",
    "        ga.CPoint2D A, B, C\n",
    "\n",
    "    T = 2\n",
    "\n",
    "    IA = TG.trivtx[T, 0]\n",
    "    IB = TG.trivtx[T, 1]\n",
    "    IC = TG.trivtx[T, 2]\n",
    "\n",
    "    A.x = TG.x[IA]\n",
    "    A.y = TG.y[IA]\n",
    "    \n",
    "    B.x = TG.x[IB]\n",
    "    B.y = TG.y[IB]\n",
    "    \n",
    "    C.x = TG.x[IC]\n",
    "    C.y = TG.y[IC]\n",
    "    \n",
    "    printf(\"%d: A(%.0f,%.0f), B(%.0f,%.0f), C(%.0f,%.0f)\\n\",\n",
    "           T, A.x, A.y, B.x, B.y, C.x, C.y)"
   ]
  },
  {
   "cell_type": "code",
   "execution_count": 7,
   "metadata": {
    "collapsed": false,
    "deletable": true,
    "editable": true
   },
   "outputs": [
    {
     "name": "stdout",
     "output_type": "stream",
     "text": [
      "2: A(1,0), B(1,1), C(0,1)\n"
     ]
    }
   ],
   "source": [
    "get_triangle(TG, 2)"
   ]
  },
  {
   "cell_type": "code",
   "execution_count": 8,
   "metadata": {
    "collapsed": false,
    "deletable": true,
    "editable": true
   },
   "outputs": [],
   "source": [
    "%%cython\n",
    "\n",
    "from libc.stdio cimport printf\n",
    "cimport geomalgo as ga\n",
    "\n",
    "def iter_triangles(ga.Triangulation2D TG):\n",
    "    cdef:\n",
    "        int T\n",
    "        ga.CTriangle2D ABC\n",
    "        ga.CPoint2D A, B, C\n",
    "\n",
    "    ga.triangle2d_set(&ABC, &A, &B, &C)\n",
    "\n",
    "    for T in range(TG.NT):\n",
    "        TG.get(T, &ABC)\n",
    "        printf(\"%d: A(%.0f,%.0f), B(%.0f,%.0f), C(%.0f,%.0f)\\n\",\n",
    "               T, A.x, A.y, B.x, B.y, C.x, C.y)"
   ]
  },
  {
   "cell_type": "raw",
   "metadata": {
    "deletable": true,
    "editable": true,
    "raw_mimetype": "text/restructuredtext"
   },
   "source": [
    "The :meth:`Triangulation2D.get` method make it a lot easier.\n",
    "It take as argument the triangle iteration index, and a \n",
    "c:type:`CTriangle2D` setted with tree c:type:`CPoint2D`."
   ]
  },
  {
   "cell_type": "code",
   "execution_count": 9,
   "metadata": {
    "collapsed": false,
    "deletable": true,
    "editable": true
   },
   "outputs": [
    {
     "name": "stdout",
     "output_type": "stream",
     "text": [
      "0: A(0,0), B(1,0), C(0,1)\n",
      "1: A(1,0), B(2,0), C(1,1)\n",
      "2: A(1,0), B(1,1), C(0,1)\n",
      "3: A(2,0), B(2,1), C(1,1)\n",
      "4: A(0,1), B(1,1), C(0,2)\n",
      "5: A(1,1), B(1,2), C(0,2)\n"
     ]
    }
   ],
   "source": [
    "iter_triangles(TG)"
   ]
  },
  {
   "cell_type": "raw",
   "metadata": {
    "deletable": true,
    "editable": true,
    "raw_mimetype": "text/restructuredtext"
   },
   "source": [
    "Computational functions\n",
    "=======================\n",
    "\n",
    "Some simple computation functions are provided for triangulation,\n",
    "for example to compute centers of each triangle in a triangulation.\n",
    "\n",
    "The previous example can be rewritten:"
   ]
  },
  {
   "cell_type": "code",
   "execution_count": 10,
   "metadata": {
    "collapsed": false,
    "deletable": true,
    "editable": true
   },
   "outputs": [
    {
     "data": {
      "image/png": "[encoded data removed]",
      "text/plain": [
       "<matplotlib.figure.Figure at 0x7fc460c59358>"
      ]
     },
     "metadata": {},
     "output_type": "display_data"
    }
   ],
   "source": [
    "triplot(x, y, trivtx)\n",
    "\n",
    "xcenter, ycenter = ga.triangulation.compute_centers(TG)\n",
    "\n",
    "plot(xcenter, ycenter, 'bo')\n",
    "\n",
    "axis('scaled')\n",
    "show()"
   ]
  },
  {
   "cell_type": "raw",
   "metadata": {
    "deletable": true,
    "editable": true,
    "raw_mimetype": "text/restructuredtext"
   },
   "source": [
    "Other computation functions are compute_bounding_box, compute_edge_min_max, compute_signed_area.\n",
    "\n",
    ".. note::\n",
    "\n",
    "    Triangulation2D extension type is voluntary keept minimial with 3 attributes and no\n",
    "    methods, like above ones could be.\n",
    "    The rational behind this is to not impose the application that geomalgo\n",
    "    a particular structure, but to let it keep is own: triangular mesh, dual mesh...\n",
    "    geomalgo goal is to provide some useful but non-intruise computational primitives.\n",
    "    "
   ]
  },
  {
   "cell_type": "raw",
   "metadata": {
    "collapsed": true,
    "deletable": true,
    "editable": true,
    "raw_mimetype": "text/restructuredtext"
   },
   "source": [
    "Boundary and intern edges\n",
    "=========================\n",
    "\n",
    "A lot of operation on triangulation, for example building a dual mesh,\n",
    "or refining the mesh can be made simple by dealing\n",
    "with boundary edges and intern edges.\n",
    "\n",
    "Boundary edges belongs to 1 triangle, while intern edges belongs\n",
    "to 2 triangles. Their are build with the :func:`build_edges`."
   ]
  },
  {
   "cell_type": "code",
   "execution_count": 11,
   "metadata": {
    "collapsed": false,
    "deletable": true,
    "editable": true
   },
   "outputs": [],
   "source": [
    "intern_edges, boundary_edges, edge_map = ga.build_edges(TG.trivtx, TG.NV)"
   ]
  },
  {
   "cell_type": "raw",
   "metadata": {
    "deletable": true,
    "editable": true,
    "raw_mimetype": "text/restructuredtext"
   },
   "source": [
    "InternEdges has ``vertices`` and ``triangles`` attributes,\n",
    "giving the 2 vertices indices and the 2 triangle indices\n",
    "for each intern edge. For example:"
   ]
  },
  {
   "cell_type": "code",
   "execution_count": 12,
   "metadata": {
    "collapsed": false,
    "deletable": true,
    "editable": true
   },
   "outputs": [
    {
     "data": {
      "image/png": "[encoded data removed]",
      "text/plain": [
       "<matplotlib.figure.Figure at 0x7fc4626b6550>"
      ]
     },
     "metadata": {},
     "output_type": "display_data"
    }
   ],
   "source": [
    "triplot(x, y, trivtx)\n",
    "I = 2\n",
    "\n",
    "IA = intern_edges.vertices[I, 0]\n",
    "IB = intern_edges.vertices[I, 1]\n",
    "plot([x[IA], x[IB]],\n",
    "     [y[IA], y[IB]], 'ro')\n",
    "\n",
    "T0 = intern_edges.triangles[I, 0]\n",
    "T1 = intern_edges.triangles[I, 1]\n",
    "plot([xcenter[T0], xcenter[T1]],\n",
    "     [ycenter[T0], ycenter[T1]], 'go')\n",
    "\n",
    "axis('scaled')\n",
    "show()"
   ]
  },
  {
   "cell_type": "raw",
   "metadata": {
    "deletable": true,
    "editable": true,
    "raw_mimetype": "text/restructuredtext"
   },
   "source": [
    "BoundaryEdges has ``vertices`` and ``triangle`` attributes,\n",
    "giving the 2 vertices indices and the triangle index\n",
    "for each boundary edge. For example:"
   ]
  },
  {
   "cell_type": "code",
   "execution_count": 13,
   "metadata": {
    "collapsed": false,
    "deletable": true,
    "editable": true
   },
   "outputs": [
    {
     "data": {
      "image/png": "[encoded data removed]",
      "text/plain": [
       "<matplotlib.figure.Figure at 0x7fc48e0a6668>"
      ]
     },
     "metadata": {},
     "output_type": "display_data"
    }
   ],
   "source": [
    "triplot(x, y, trivtx)\n",
    "I = 2\n",
    "\n",
    "IA = boundary_edges.vertices[I, 0]\n",
    "IB = boundary_edges.vertices[I, 1]\n",
    "plot([x[IA], x[IB]],\n",
    "     [y[IA], y[IB]], 'ro')\n",
    "\n",
    "T = boundary_edges.triangle[I]\n",
    "plot(xcenter[T], ycenter[T], 'go')\n",
    "\n",
    "axis('scaled')\n",
    "show()"
   ]
  },
  {
   "cell_type": "raw",
   "metadata": {
    "deletable": true,
    "editable": true,
    "raw_mimetype": "text/restructuredtext"
   },
   "source": [
    "The third returned object, edge_map, is used to find a intern_edge or boundary_edge\n",
    "given its vertices. It is implemented to be very fast with O(1) complexity.\n",
    "\n",
    "EdgeMap indexes both InternalEdge and BoundaryEdges.\n",
    "The map_search_edge_idx returns whether the edge is found, and it EdgeMap index.\n",
    "The EdgeMap index is then used to determine whether the edge is a boundary or\n",
    "internal one, and its corresponding index."
   ]
  },
  {
   "cell_type": "code",
   "execution_count": 14,
   "metadata": {
    "collapsed": false,
    "deletable": true,
    "editable": true
   },
   "outputs": [],
   "source": [
    "%%cython\n",
    "\n",
    "from libc.stdio cimport printf\n",
    "cimport geomalgo as ga\n",
    "\n",
    "def find_edge(ga.EdgeMap edge_map, int IA, int IB):\n",
    "    cdef:\n",
    "        bint found\n",
    "        int E, I\n",
    "        \n",
    "    E = edge_map.search_edge_idx(IA, IB, &found)\n",
    "    \n",
    "    if not found:\n",
    "        printf(\"No such edge: (%d,%d)\\n\", IA, IB)\n",
    "        return\n",
    "        \n",
    "    I = edge_map.idx[E]\n",
    "        \n",
    "    if edge_map.location[E] == ga.INTERN_EDGE:\n",
    "        printf(\"Intern edge for (%d,%d): %d\\n\", IA, IB, I)\n",
    "    else:\n",
    "        printf(\"Boudnary edge for (%d,%d): %d\\n\", IA, IB, I)"
   ]
  },
  {
   "cell_type": "code",
   "execution_count": 15,
   "metadata": {
    "collapsed": false,
    "deletable": true,
    "editable": true
   },
   "outputs": [
    {
     "data": {
      "image/png": "[encoded data removed]",
      "text/plain": [
       "<matplotlib.figure.Figure at 0x7fc460204be0>"
      ]
     },
     "metadata": {},
     "output_type": "display_data"
    },
    {
     "name": "stdout",
     "output_type": "stream",
     "text": [
      "Intern edge for (1,4): 1\n",
      "Boudnary edge for (7,6): 7\n",
      "No such edge: (7,5)\n"
     ]
    }
   ],
   "source": [
    "def text_middle(IA, IB, color):\n",
    "    A = ga.Point2D(x[IA], y[IA])\n",
    "    B = ga.Point2D(x[IB], y[IB])\n",
    "    AB = ga.Segment2D(A, B)\n",
    "    M = AB.compute_middle()\n",
    "    text(M.x, M.y, I, color=color, size=16)\n",
    "\n",
    "for I in range(boundary_edges.size):\n",
    "    IA, IB = boundary_edges.vertices[I]\n",
    "    text_middle(IA, IB, 'green')\n",
    "    \n",
    "for I in range(intern_edges.size):\n",
    "    IA, IB = intern_edges.vertices[I]\n",
    "    text_middle(IA, IB, 'blue')\n",
    "\n",
    "plot_with_indices()\n",
    "\n",
    "find_edge(edge_map, 1, 4)\n",
    "find_edge(edge_map, 7, 6)\n",
    "find_edge(edge_map, 7, 5)"
   ]
  },
  {
   "cell_type": "raw",
   "metadata": {
    "collapsed": true,
    "deletable": true,
    "editable": true,
    "raw_mimetype": "text/restructuredtext"
   },
   "source": [
    "Conslusion\n",
    "==========\n",
    "\n",
    ":class:`Triangulation2D` is an extension type to store triangulation arrays: ``x``, ``y`` and ``trivtx``.\n",
    "GeomAlgo provide some computational functions for triangulation,\n",
    "building boundary and internal edges, which can be the foundation for building dual mesh, refining, or\n",
    "other operations.\n",
    "No cover in this tutorial, GeomAlgo also provides tools for fastly locating which triangle contains a point,\n",
    "and for interpoling from triangulation vertices to arbitrary points."
   ]
  },
  {
   "cell_type": "raw",
   "metadata": {
    "raw_mimetype": "text/restructuredtext"
   },
   "source": [
    "*************\n",
    "BoundaryEdges\n",
    "*************\n",
    "\n",
    "Contruction\n",
    "===========\n",
    "\n",
    ".. py:function:: build_edges(trivtx, NV, intern_edges_order=None, boundary_edges_order=None)\n",
    "\n",
    "    :param int[NT,3] trivtx: Triangle vertice indices.\n",
    "    :param int NV: Number of vertices.\n",
    "\n",
    "    It returns:\n",
    "        a BoundaryEdges object\n",
    "        a InternEdges object\n",
    "        a EdgeMap object\n",
    "\n",
    "\n",
    "Attributes\n",
    "==========\n",
    "\n",
    ".. py:attribute:: size: int\n",
    "\n",
    "   Number of boundary edges in the triangulation.\n",
    "\n",
    ".. py:attribute:: vertices: int[:,:]\n",
    "\n",
    ".. py:attribute:: triangle: int[:]\n",
    "\n",
    ".. py:attribute:: next_boundary_edge: int[:]\n",
    "\n",
    ".. py:attribute:: label: int[:]\n",
    "\n",
    ".. py:attribute:: length: double[:]\n",
    "\n",
    ".. py:attribute:: normal: double[:,:]\n",
    "\n",
    ".. py:attribute:: edge_map: EdgeMap\n",
    "\n",
    "***************\n",
    "Triangulation2D\n",
    "***************\n",
    "\n",
    "See :ref:`tuto/triangulation.ipynb` for a introduction on\n",
    ":py:class:`Triangulation2D`.\n",
    "\n",
    "Contruction\n",
    "===========\n",
    "\n",
    ".. py:class:: Triangulation2D(x, y, trivtx)\n",
    "\n",
    "    :param double[NV] x: Vertice first coordinates.\n",
    "    :param double[NV] y: Vertice second coordiantes.\n",
    "    :param double[NT,3] trivtx: Triangle vertice indices.\n",
    "\n",
    "Attributes\n",
    "==========\n",
    "\n",
    ":py:class:`Triangulation2D` has the following array attributes:\n",
    "\n",
    ".. py:attribute:: x: double[NV]\n",
    "\n",
    "    Vertice first coordinates.\n",
    "\n",
    ".. py:attribute:: y: double[NV]\n",
    "\n",
    "    Vertice second coordinates.\n",
    "\n",
    ".. py:attribute:: trivtx: int[NT,3]\n",
    "\n",
    "    Triangle vertice indices.\n",
    "\n",
    ":py:class:`Triangulation2D` has the following array size attributes:\n",
    "\n",
    ".. py:attribute:: NV: int\n",
    "\n",
    "   The number of vertices\n",
    "\n",
    ".. py:attribute:: NT: int\n",
    "\n",
    "   The number of triangles\n",
    "\n",
    "The main purpose of this extension type is to groups together the 3 arrays\n",
    "that defines a triangulation in its attributes:\n",
    "\n",
    "Methods\n",
    "=======\n",
    "\n",
    ":py:class:`Triangulation2D` has the following methods:\n",
    "\n",
    ".. py:method:: __getitem__(self, triangle_index: int)\n",
    "\n",
    "Return a Triangle2D instance\n"
   ]
  },
  {
   "cell_type": "code",
   "execution_count": null,
   "metadata": {
    "collapsed": true
   },
   "outputs": [],
   "source": []
  }
 ],
 "metadata": {
  "celltoolbar": "Raw Cell Format",
  "kernelspec": {
   "display_name": "Python 3",
   "language": "python",
   "name": "python3"
  },
  "language_info": {
   "codemirror_mode": {
    "name": "ipython",
    "version": 3
   },
   "file_extension": ".py",
   "mimetype": "text/x-python",
   "name": "python",
   "nbconvert_exporter": "python",
   "pygments_lexer": "ipython3",
   "version": "3.5.3"
  }
 },
 "nbformat": 4,
 "nbformat_minor": 2
}
